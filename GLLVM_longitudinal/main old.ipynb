{
 "cells": [
  {
   "attachments": {},
   "cell_type": "markdown",
   "metadata": {},
   "source": [
    "# GLLVM for longitudinal data: a pytorch implementation\n",
    "\n",
    "We consider the following model\n",
    "\n",
    "TODO:\n",
    "* ~~learn the nuisance parameters! To learn phi, make the encoder learn the zhats **before** AR(1) is applied, and take the gradient of the decoder. that is, make the decoder have phi as a parameter, and same for var_mu!~~ \n",
    "* ~~allow for gaussian and binary data~~ \n",
    "* ~~Compute the gradient that define the model~~\n",
    "* allow for missing values and impute them"
   ]
  },
  {
   "attachments": {},
   "cell_type": "markdown",
   "metadata": {},
   "source": [
    "\n",
    " ## Model Specification\n",
    "\n",
    "Let  $y_{i1t},y_{i2t},\\ldots,y_{ipt}$  be a set of $p$ response or observed variables at time $t,\\ t=1,\\ldots,T$ for  individual $i,\\ i=1,\\ldots,n$. Let $\\mathbf{x}_{it}$ be a set of observed $k$-dimensional covariates at time $t,\\ t=1,\\ldots,T$.\n",
    "\n",
    "Models for multivariate longitudinal data have to account for the three sources of variability\n",
    "present in the data, that is (i) cross-sectional associations between the responses at a particular time point, (ii) cross-lagged\n",
    "associations between different responses at different occasions, and  (iii) the association between repeated measures of the same response\n",
    "over time. The first source of variability is accounted for\n",
    "a time-dependent latent variable $z_{i1}, z_{i2},\\ldots,z_{iT}$. Modeling the temporal evolution of the latent variable accounts for the cross-lagged associations between different responses over time.\n",
    "The third source of variability can be accounted for a set of item-specific random effects $\\mathbf{u}_{i}=(u_{i1}, \\ldots, u_{ip})'$.\n",
    "\n",
    "According to the GLLVM framework we have\n",
    "\n",
    "\\begin{align*}\n",
    "   \\nonumber y_{ijt}|\\mu_{ijt} &\\sim \\mathcal{F}_j(y_{ijt}\\vert \\mu_{ijt}, \\tau_j)\\\\\n",
    "   \\mu_{ijt}&=  g_j(\\eta_{ijt})=g_j(\\beta_{0jt} + \\mathbf{x}_{i}^{\\top}\\boldsymbol \\beta_{jt} + z_{it}^{\\top}\\lambda_{jt}+u_{ij}\\sigma_{u_j})\\\\ %  \\label{eqn:GLLVM-model2}\n",
    "\\end{align*}\n",
    "where $g_j(\\cdot),j=1,\\ldots,p$ is a known {\\it link function}, $\\eta_{ijt}=\\beta_{0jt} + \\mathbf{x}_{i}^{\\top}\\boldsymbol \\beta_{jt} + z_{it}^{\\top}\\lambda_{jt}+u_{ij},i=1,\\ldots,n,j=1,\\ldots,p, t=1,\\ldots,T$ is the {\\it linear predictor},  and $\\mathcal{F}_j(y_{ijt}\\vert \\eta_{ijt}, \\tau_j)$ denotes a distribution from the exponential family with mean $\\mu_{ijt}$ and response variable-specific dispersion parameter $\\tau_j$. \\vspace{5pt}\\\\\n",
    "The dynamics of the latent variable over time is modelled through a non-stationary autoregressive model of first order\n",
    "\n",
    "\\begin{equation*}\n",
    "z_{it}=\\phi z_{i,t-1} + \\delta_{it}\n",
    "\\end{equation*}%\n",
    "where  $z_{i1}\\sim N(0,\\sigma^2_{1})$ and $\\delta_{it}\\sim N(0,1)$.  Moreover, we assume the random effects independent of the latent variable and their common distribution $\\mathbf{u}_{i}\\sim N_p(\\mathbf{0}, \\boldsymbol I)$.\n",
    "\n",
    "\n",
    "### Changes I propose:\n",
    "\n",
    "allow x to depend on time.\n",
    "\n",
    "\n",
    "## Measurement invariance\n",
    "\n",
    "The  latent variable $z_{it}$ has to be the same (same meaning) across occasions.\n",
    "Thus the measurement invariance assumption has to be tested on the data, that is \n",
    "all the measurement parameters  are invariant across occasions, that is $$\\beta_{0jt}=\\beta_{0j} \\ \\textrm{and } \\ \\lambda_{jt}=\n",
    "\\lambda_{j},$$ for all $t$, $t=1, \\ldots, T$ and for all $j$, $j=1,\\ldots, p$.\n",
    "Under this assumption, the model is more parsimonious  and avoids some possible identification problem that might arise with\n",
    "increasing the number of time points.\n",
    "\n",
    "To ensure identification of the model, one necessary condition is that the latent variable has a scale and an origin. %When measurement\n",
    "%invariance of loadings and intercepts is imposed,\n",
    "Scale for  $z_{it}$  can be provided either by fixing one loading at a nonzero value or by\n",
    "fixing the factor variance at a nonzero value. In presence of longitudinal data, the same loading is fixed equal to one at each occasion.\n"
   ]
  },
  {
   "attachments": {},
   "cell_type": "markdown",
   "metadata": {},
   "source": [
    "## Fast prototyping using Pytorch\n",
    "\n",
    "We model each observation as a tuple of dimension `(T, p)`, common across individuals. Individuals constitute independent observations, which yields the tensor structure `(n, T, q)`. The time dimension `T` appears in the first dimension since it allows for seamless tensor products of the type `(n, T, q) (q, p)`.\n",
    "\n",
    "We need\n",
    "\n",
    "* A model that defines the generative process\n",
    "* A loss function which, upon taking the derivative, re-creates the estimating equations\n",
    "* A way to compute the latent variables. For now, we will use a neural network. Later, we can implement the real function.\n"
   ]
  },
  {
   "cell_type": "code",
   "execution_count": 50,
   "metadata": {},
   "outputs": [],
   "source": [
    "import torch\n",
    "from torch import nn\n",
    "import numpy as np\n",
    "import math\n",
    "import matplotlib.pyplot as plt\n",
    "import copy"
   ]
  },
  {
   "cell_type": "code",
   "execution_count": 51,
   "metadata": {},
   "outputs": [],
   "source": [
    "# Import the preprocessed data\n",
    "data = np.load(\"../data/HRS/HRS_3Darray.npy\")"
   ]
  },
  {
   "attachments": {},
   "cell_type": "markdown",
   "metadata": {},
   "source": [
    "### Loading data\n",
    "The data has been pre-processed as a 3D array with dimensions given by $(n, k+p, T)$.\n",
    "\n",
    "The final array is a 3D array of shape (n, k+p, T), where \n",
    "* n is the number of observations, \n",
    "* k is the number of covariates,\n",
    "* p is the number of responses to be modeled by the latent variables,\n",
    "* T is the number of time observations\n",
    "\n",
    "The variables are ordered as follows:\n",
    "\n",
    "**Covariates**\n",
    "\n",
    "- age (covariate)\n",
    "- gender (covariate)\n",
    "- education (covariate)\n",
    "\n",
    "**Responses**\n",
    "\n",
    "- month (binary)\n",
    "- day (binary)\n",
    "- year (binary)\n",
    "- day_week (binary)\n",
    "- paper (binary)\n",
    "- cactus (binary)\n",
    "- president (binary)\n",
    "- vice_president (binary)\n",
    "- serie_7 (count)\n",
    "- backwards (ordinal)\n",
    "- recall_immediate (count)\n",
    "- recall_delayed (count)\n",
    "\n",
    "The binary random variables are modelled conditionally with a logistic regression; the ordinal variables with an ordinal logistic regression; the counts with poisson regression.\n",
    "\n",
    "The ordinal responses require an intercept for each level, or \"cutpoints\". In our case, we model this by hard-coding the intercept, but it should be made more general. We assume the effect of the covariates is constant across categories, resulting in a proportional odds model.\n",
    "\n",
    "We need to split the ordinal \"backwards\" into variable into two new variables: backwards_1 and backwards_2. The responses become:\n",
    "\n",
    "**Covariates**\n",
    "\n",
    "- 0: age (covariate)\n",
    "- 1: gender (covariate)\n",
    "- 2: education (covariate)\n",
    "\n",
    "**Responses**\n",
    "\n",
    "- 0: month (binary)\n",
    "- 1: day (binary)\n",
    "- 2: year (binary)\n",
    "- 3: day_week (binary)\n",
    "- 4: paper (binary)\n",
    "- 5: cactus (binary)\n",
    "- 6: president (binary)\n",
    "- 7: vice_president (binary)\n",
    "- 8: serie_7 (count)\n",
    "- 9: backwards_1 (dummy)\n",
    "- 10: backwards_2 (dummy)\n",
    "- 11: recall_immediate (count)\n",
    "- 12: recall_delayed (count)"
   ]
  },
  {
   "cell_type": "code",
   "execution_count": 52,
   "metadata": {},
   "outputs": [
    {
     "data": {
      "text/plain": [
       "124.0"
      ]
     },
     "execution_count": 52,
     "metadata": {},
     "output_type": "execute_result"
    }
   ],
   "source": [
    "# Create the backwards_1 and backwards_2 dummies:\n",
    "backwards_1 = (data[:,12]==1)\n",
    "backwards_2 = (data[:,12, np.newaxis]==2)\n",
    "\n",
    "# insert them\n",
    "data[:,12] = backwards_1\n",
    "data = np.concatenate([data[:,:12], backwards_2, data[:,12:]], axis=1)\n",
    "\n",
    "np.nanmax(data)"
   ]
  },
  {
   "cell_type": "code",
   "execution_count": 53,
   "metadata": {},
   "outputs": [],
   "source": [
    "# Separate covariates and responses, and prepare the torch tensors\n",
    "\n",
    "data = np.transpose(data, (0,2,1))\n",
    "data_true = {\n",
    "    'x': torch.from_numpy(data[:,:,:3]).float(),\n",
    "    'y': torch.from_numpy(data[:,:,3:]).float()\n",
    "}\n",
    "\n",
    "response_types = {\n",
    "    'binary': [0,1,2,3,4,5,6,7],\n",
    "    'ordinal': [9, 10],\n",
    "    'counts': [8, 11, 12]\n",
    "}\n",
    "\n",
    "# We define two inverse link functions; one for sampling (the one assumed in the model), and another for computations (the one used to compute gradients)\n",
    "linkinv_sample = {\n",
    "    'binary': lambda x: 1/(1+torch.exp(-x)),\n",
    "    'ordinal': lambda x: 1/(1+torch.exp(-x)),\n",
    "    'counts': lambda x: torch.exp(x) \n",
    "}\n",
    "\n",
    "linkinv_decoder = {\n",
    "    'binary': lambda x: 1/(1+torch.exp(-x)),\n",
    "    'ordinal': lambda x: 1/(1+torch.exp(-x)),\n",
    "    'counts': lambda x: x # see below remarks for the standardization of the \"counts\"\n",
    "}"
   ]
  },
  {
   "cell_type": "code",
   "execution_count": 54,
   "metadata": {},
   "outputs": [
    {
     "name": "stdout",
     "output_type": "stream",
     "text": [
      "shape of x: torch.Size([33146, 9, 3])\n",
      "shape of y: torch.Size([33146, 9, 13])\n"
     ]
    }
   ],
   "source": [
    "# The shape must be (n, T, p)\n",
    "\n",
    "for key, value in data_true.items():\n",
    "    print(f'shape of {key}: {value.shape}')\n",
    "    "
   ]
  },
  {
   "cell_type": "code",
   "execution_count": 55,
   "metadata": {},
   "outputs": [
    {
     "name": "stdout",
     "output_type": "stream",
     "text": [
      "Data with 33146 observations, 3 covariates, 13 responses, 9 time periods, 1 latent variable per time period.\n"
     ]
    }
   ],
   "source": [
    "n = data_true['x'].shape[0]\n",
    "k = data_true['x'].shape[2]\n",
    "p = data_true['y'].shape[2]\n",
    "T = data_true['y'].shape[1]\n",
    "q = 1\n",
    "\n",
    "print(f'Data with {n} observations, {k} covariates, {p} responses, {T} time periods, {1} latent variable per time period.')"
   ]
  },
  {
   "attachments": {},
   "cell_type": "markdown",
   "metadata": {},
   "source": [
    "##  dealing with missing data\n",
    "We deal with missing data in two ways:\n",
    "\n",
    "* The missing values are iteratively imputed by their conditional mean.\n",
    "* To compute the Z, we use the imputed means.\n",
    "* To compute the parameters, we use the imputed means and estimated Z but *provide the mask* so that the update does not take the missing values into account in the computation of the gradient.\n"
   ]
  },
  {
   "cell_type": "code",
   "execution_count": 56,
   "metadata": {},
   "outputs": [],
   "source": [
    "mask = {}\n",
    "\n",
    "mask['x'] = torch.isnan(data_true['x'])\n",
    "mask['y'] = torch.isnan(data_true['y'])\n",
    "\n",
    "data_true['x'][mask['x']] = 0\n",
    "data_true['y'][mask['y']] = 0\n",
    "\n"
   ]
  },
  {
   "attachments": {},
   "cell_type": "markdown",
   "metadata": {},
   "source": [
    "# Data standardization\n",
    "\n",
    "To improve numerical stability, we transform the counts as $y\\to \\log(y+1)$. This is reflected in the sampling mechanics. As a result, we use the identity as a link function for the counts."
   ]
  },
  {
   "cell_type": "code",
   "execution_count": 57,
   "metadata": {},
   "outputs": [],
   "source": [
    "# Numerical stability issues for poisson data\n",
    "\n",
    "data_true['x'][:,:,0] = data_true['x'][:,:,0] /100\n",
    "# For numerical stability, we transform the counts (poisson) as y -> log(y+1)\n",
    "# This is reflected in our sampling mechanism so we don't introduce a bias\n",
    "data_true['y'][:,:,response_types['counts']] = torch.log(data_true['y'][:,:,response_types['counts']] + 1)"
   ]
  },
  {
   "cell_type": "code",
   "execution_count": 58,
   "metadata": {},
   "outputs": [
    {
     "name": "stdout",
     "output_type": "stream",
     "text": [
      "torch.Size([33146, 9, 3])\n",
      "torch.Size([33146, 9, 13])\n"
     ]
    }
   ],
   "source": [
    "print(data_true['x'].shape)\n",
    "print(data_true['y'].shape)"
   ]
  },
  {
   "cell_type": "code",
   "execution_count": 59,
   "metadata": {},
   "outputs": [],
   "source": [
    "\n",
    "DIMENSIONS_Y = (n, T, p) \n",
    "DIMENSIONS_X = (n, T, k)\n",
    "DIMENSIONS_Z = (n, T, q)\n",
    "DIMENSIONS_U = (n, 1, p)\n",
    "\n",
    "# TODO: refactor to have a module of two modules: encoder and decoder\n",
    "class GLLVM_longitudinal():\n",
    "    def __init__(self):\n",
    "        self.encoder = Encoder()\n",
    "        self.decoder = Decoder()\n",
    "\n",
    "    def encoder_fit(self, x, y, d, u, epochs=100, verbose=False):\n",
    "        encoder_loss = nn.MSELoss()\n",
    "        encoder_opt = torch.optim.Adam(self.encoder.parameters())\n",
    "        for epoch in range(epochs):\n",
    "            (dhat, uhat) = self.encoder(x, y)\n",
    "            loss = encoder_loss(dhat, d) + encoder_loss(uhat, u) # TODO: check that it's correct,maybe Z needs to be weighed more than u\n",
    "            if verbose:\n",
    "                print(f\"\\nEpoch {epoch}/{epochs}, loss={loss}\")\n",
    "            loss.backward()\n",
    "            encoder_opt.step()\n",
    "            encoder_opt.zero_grad()\n",
    "        return loss\n",
    "\n",
    "\n",
    "    def sample(self, n, x=None, u=None, d=None):\n",
    "        with torch.no_grad():\n",
    "            \"\"\"Sample a longitudinal GLLVM, potentially with z, u, and d(elta), and return (x, u, d, y)\"\"\"\n",
    "\n",
    "            if x is None:\n",
    "                Warning(\"x was set to None for sampling. This is usually unwanted unless k=0.\")\n",
    "                x = torch.randn((n, T, k))\n",
    "            if u is None:\n",
    "                u = torch.randn((n, 1, p))\n",
    "            if d is None:\n",
    "                d = torch.randn((n, T, q))\n",
    "\n",
    "            # for normal responses: eps = torch.randn((n, T, p)) * torch.sqrt(self.decoder.var_y)\n",
    "\n",
    "            y = self.decoder(x, d, u)\n",
    "            for response_type, response_id in response_types.items():\n",
    "                if response_type == \"binary\":\n",
    "                    y[:,:,response_id] = torch.bernoulli(y[:,:,response_id])\n",
    "                elif response_type == \"ordinal\":\n",
    "                    y_ordinal = y[:,:,response_id]\n",
    "                    # draw one uniform for the whole vector\n",
    "                    random = torch.rand((*y_ordinal.shape[0:2], 1)) \n",
    "                    # compare with the cumulative probabilities\n",
    "                    ordinal = torch.sum(random < y_ordinal, axis=2)\n",
    "                    ordinal = torch.nn.functional.one_hot(ordinal).squeeze().float()\n",
    "                    ordinal = ordinal[:,:,1:] # discard the first column of the one_hot encoding, as it is superfluous (as a 0)\n",
    "                    y[:,:,response_id] = ordinal\n",
    "                elif response_type == \"counts\":\n",
    "                    y[:,:,response_id] = torch.log(torch.poisson(torch.exp(y[:,:,response_id]))+1) # here we transform the mean using the inverse link - this is due to the transformation of the poisson variable intot a \"gaussin\". For sampling, we actually want the gaussian.\n",
    "                     \n",
    "            return {\"x\":x, \"u\":u, \"d\":d, \"y\":y}\n",
    "    \n",
    "    def impute(self, x, y, mask, nsteps=10):\n",
    "        \"\"\" Impute the missing values provided by the mask (True is missing) and return x imputed\"\"\"\n",
    "        for _ in range(nsteps):\n",
    "            d, u = self.encoder(x,y)\n",
    "            y_decoded = self.decoder(x,d,u)\n",
    "            y[mask] = y_decoded[mask]\n",
    "        return y\n",
    "        \n",
    "\n",
    "class Decoder(nn.Module):\n",
    "    def __init__(self):\n",
    "        super().__init__()\n",
    "\n",
    "        # decoder part (our parameters of interest)\n",
    "        self.wz = nn.Parameter(torch.randn((q, p)))/10\n",
    "        self.wx = nn.Parameter(torch.randn((T, k, p)))/10\n",
    "        self.bias = nn.Parameter(torch.zeros((1, T, p)))/10\n",
    "        self.phi = nn.Parameter(torch.ones(1))\n",
    "\n",
    "        # nuisance parameters\n",
    "        self.var_u = nn.Parameter(torch.ones((1,1,p)))\n",
    "        self.var_y = nn.Parameter(torch.ones((1,1,p))) # this appears in the loss function, but we know all of them to be 1 by design\n",
    "\n",
    "    # decoding\n",
    "    def forward(self, x, d, u):\n",
    "        z = self.AR(d)\n",
    "        u = u * torch.sqrt(self.var_u)\n",
    "        xwx = (x.unsqueeze(2) @ self.wx).squeeze() # see section \"details of tensorproducts\"\n",
    "        zwz = (z.unsqueeze(2) @ self.wz).squeeze()\n",
    "        # for the ordinal variables:\n",
    "        linpar = self.bias + xwx + zwz + u \n",
    "\n",
    "        # Apply the inverse link to get the conditional expectation\n",
    "        yhat  = torch.zeros_like(linpar)\n",
    "        for response_type, response_id in response_types.items():\n",
    "            yhat[:,:,response_id] = linkinv_decoder[response_type](linpar[:,:,response_id])\n",
    "        # Transform the \n",
    "        return yhat\n",
    "\n",
    "    def AR(self, d):\n",
    "        z = d.clone()\n",
    "\n",
    "        for t in range(1, z.shape[1]):\n",
    "            z[:,t] = z[:,t] + z[:, t-1].clone() * self.phi  # we need to clone else the gradient wants to pass through it\n",
    "        return z\n",
    "\n",
    "class Encoder(nn.Module):\n",
    "    def __init__(self):\n",
    "        super().__init__()\n",
    "        # encoder part\n",
    "        # input dimension is T * (p+k)... we buuild a fully connected layer but it isn't necessary \n",
    "        # output dimension is T*q  + p (for Z and U, respectively)\n",
    "        self.enc_model = nn.Sequential(\n",
    "            nn.Linear(in_features=T*(p+k), out_features = 100),\n",
    "            nn.ReLU(),\n",
    "            nn.Linear(in_features=100, out_features = 100),\n",
    "            nn.ReLU(),\n",
    "            nn.Linear(in_features=100, out_features = 100),\n",
    "            nn.ReLU(),\n",
    "            nn.Linear(in_features=100, out_features = T*q + p)\n",
    "        )\n",
    "    \n",
    "    def forward(self, x, y):\n",
    "        xy = torch.cat([x, y], dim=2).flatten(start_dim=1)\n",
    "        zu = self.enc_model(xy)\n",
    "        return self.split_zu(zu)\n",
    "\n",
    "    def split_zu(self, du):\n",
    "        #output dimension of size (T*Z), p\n",
    "        d, u = torch.split(du, [T*q, p], dim=1)\n",
    "        d = d.reshape((d.shape[0], T, q))\n",
    "        u = u.unsqueeze(1)\n",
    "        return (d, u)"
   ]
  },
  {
   "cell_type": "code",
   "execution_count": 60,
   "metadata": {},
   "outputs": [],
   "source": [
    "gl_true = GLLVM_longitudinal()\n",
    "dat_sample = gl_true.sample(n, x=data_true['x'])\n"
   ]
  },
  {
   "cell_type": "code",
   "execution_count": 61,
   "metadata": {},
   "outputs": [
    {
     "data": {
      "text/plain": [
       "tensor([[[1.0000, 1.0000, 1.0000,  ..., 0.0000, 1.6094, 1.3863],\n",
       "         [1.0000, 1.0000, 1.0000,  ..., 0.0000, 1.3863, 1.3863],\n",
       "         [1.0000, 1.0000, 1.0000,  ..., 0.0000, 1.7918, 2.0794],\n",
       "         ...,\n",
       "         [0.0000, 0.0000, 0.0000,  ..., 0.0000, 0.0000, 0.0000],\n",
       "         [0.0000, 0.0000, 0.0000,  ..., 0.0000, 0.0000, 0.0000],\n",
       "         [0.0000, 0.0000, 0.0000,  ..., 0.0000, 0.0000, 0.0000]],\n",
       "\n",
       "        [[1.0000, 1.0000, 1.0000,  ..., 0.0000, 1.9459, 1.9459],\n",
       "         [1.0000, 1.0000, 1.0000,  ..., 0.0000, 1.7918, 1.9459],\n",
       "         [1.0000, 1.0000, 1.0000,  ..., 0.0000, 1.7918, 1.7918],\n",
       "         ...,\n",
       "         [0.0000, 0.0000, 0.0000,  ..., 0.0000, 0.0000, 0.0000],\n",
       "         [0.0000, 0.0000, 0.0000,  ..., 0.0000, 0.0000, 0.0000],\n",
       "         [0.0000, 0.0000, 0.0000,  ..., 0.0000, 0.0000, 0.0000]],\n",
       "\n",
       "        [[0.0000, 0.0000, 0.0000,  ..., 0.0000, 2.0794, 1.7918],\n",
       "         [1.0000, 1.0000, 1.0000,  ..., 0.0000, 2.0794, 1.9459],\n",
       "         [1.0000, 1.0000, 1.0000,  ..., 0.0000, 2.0794, 1.7918],\n",
       "         ...,\n",
       "         [1.0000, 1.0000, 1.0000,  ..., 0.0000, 1.7918, 1.7918],\n",
       "         [0.0000, 0.0000, 0.0000,  ..., 0.0000, 0.0000, 0.0000],\n",
       "         [0.0000, 0.0000, 0.0000,  ..., 0.0000, 0.0000, 0.0000]],\n",
       "\n",
       "        ...,\n",
       "\n",
       "        [[0.0000, 0.0000, 0.0000,  ..., 0.0000, 0.0000, 0.0000],\n",
       "         [0.0000, 0.0000, 0.0000,  ..., 0.0000, 0.0000, 0.0000],\n",
       "         [0.0000, 0.0000, 0.0000,  ..., 0.0000, 0.0000, 0.0000],\n",
       "         ...,\n",
       "         [0.0000, 0.0000, 0.0000,  ..., 0.0000, 2.3026, 2.1972],\n",
       "         [0.0000, 0.0000, 0.0000,  ..., 0.0000, 0.0000, 0.0000],\n",
       "         [0.0000, 0.0000, 0.0000,  ..., 0.0000, 1.9459, 1.7918]],\n",
       "\n",
       "        [[0.0000, 0.0000, 0.0000,  ..., 0.0000, 0.0000, 0.0000],\n",
       "         [0.0000, 0.0000, 0.0000,  ..., 0.0000, 0.0000, 0.0000],\n",
       "         [0.0000, 0.0000, 0.0000,  ..., 0.0000, 0.0000, 0.0000],\n",
       "         ...,\n",
       "         [0.0000, 0.0000, 0.0000,  ..., 0.0000, 0.0000, 0.0000],\n",
       "         [0.0000, 0.0000, 0.0000,  ..., 0.0000, 0.0000, 0.0000],\n",
       "         [0.0000, 0.0000, 0.0000,  ..., 0.0000, 0.0000, 0.0000]],\n",
       "\n",
       "        [[0.0000, 0.0000, 0.0000,  ..., 0.0000, 0.0000, 0.0000],\n",
       "         [0.0000, 0.0000, 0.0000,  ..., 0.0000, 0.0000, 0.0000],\n",
       "         [0.0000, 0.0000, 0.0000,  ..., 0.0000, 0.0000, 0.0000],\n",
       "         ...,\n",
       "         [1.0000, 1.0000, 1.0000,  ..., 0.0000, 1.6094, 1.6094],\n",
       "         [1.0000, 1.0000, 1.0000,  ..., 0.0000, 1.3863, 0.0000],\n",
       "         [1.0000, 1.0000, 1.0000,  ..., 0.0000, 1.0986, 1.3863]]])"
      ]
     },
     "execution_count": 61,
     "metadata": {},
     "output_type": "execute_result"
    }
   ],
   "source": [
    "data_true['y']"
   ]
  },
  {
   "cell_type": "code",
   "execution_count": 62,
   "metadata": {},
   "outputs": [],
   "source": [
    "model = GLLVM_longitudinal()\n",
    "\n",
    "with torch.no_grad():\n",
    "    model.decoder.phi *= .8\n",
    "    model.decoder.var_y *= 1.1\n",
    "    model.decoder.var_u *=.8"
   ]
  },
  {
   "cell_type": "code",
   "execution_count": 63,
   "metadata": {},
   "outputs": [],
   "source": [
    "def my_loss(input, target, var_y, mask, sign=1):\n",
    "    #return sign * torch.sum(input*target / torch.sqrt(var_y), dim=[1,2]).mean()\n",
    "    return sign * torch.sum((input*target / torch.sqrt(var_y)) * mask)/torch.sum(torch.logical_not(mask)) + torch.log(var_y).mean()\n",
    "\n",
    "def evaluate_fit(input, target, mask):\n",
    "    with torch.no_grad():\n",
    "        return torch.sum(torch.pow((input - target)*mask,2))/torch.sum(~mask)\n",
    "    \n",
    "class OneLoss(nn.Module):\n",
    "    def __init__(self):\n",
    "        super(OneLoss, self).__init__()\n",
    "    \n",
    "    def forward(self, y, yhat, ys, yshat, mask):\n",
    "        \"\"\"Computes the loss. hat is recontructed y, ys is simulated\"\"\"\n",
    "        loss_sample = torch.sum(y * yhat * mask) / torch.sum(~mask)\n",
    "        loss_simulated = torch.sum(ys *  yshat * mask) / torch.sum(~mask)\n",
    "\n",
    "        return loss_sample - loss_simulated\n"
   ]
  },
  {
   "cell_type": "code",
   "execution_count": 64,
   "metadata": {},
   "outputs": [
    {
     "data": {
      "text/plain": [
       "tensor(1.8200, grad_fn=<AddBackward0>)"
      ]
     },
     "execution_count": 64,
     "metadata": {},
     "output_type": "execute_result"
    }
   ],
   "source": [
    "dat_sim = model.sample(n, x=data_true[\"x\"]) # x are known and fixed\n",
    "# train the encoder on a first pass\n",
    "model.encoder_fit(dat_sim[\"x\"], dat_sim[\"y\"], dat_sim[\"d\"], dat_sim[\"u\"], epochs=20)\n"
   ]
  },
  {
   "cell_type": "code",
   "execution_count": 65,
   "metadata": {},
   "outputs": [
    {
     "name": "stdout",
     "output_type": "stream",
     "text": [
      "tensor(0.)\n",
      "\n",
      "Epoch 1/100, loss_fit = 0.40, encoder_loss = 1.72, phi= 0.8009999990463257, var_u =0.8009999990463257, var_y=1.100000023841858\n",
      "tensor(0.)\n",
      "\n",
      "Epoch 2/100, loss_fit = 0.37, encoder_loss = 1.68, phi= 0.8019998073577881, var_u =0.8019896745681763, var_y=1.100000023841858\n",
      "tensor(0.)\n",
      "\n",
      "Epoch 3/100, loss_fit = 0.36, encoder_loss = 1.62, phi= 0.8029583692550659, var_u =0.8027511835098267, var_y=1.100000023841858\n",
      "tensor(0.)\n",
      "\n",
      "Epoch 4/100, loss_fit = 0.35, encoder_loss = 1.58, phi= 0.8039106130599976, var_u =0.8034477233886719, var_y=1.100000023841858\n",
      "tensor(0.)\n",
      "\n",
      "Epoch 5/100, loss_fit = 0.35, encoder_loss = 1.54, phi= 0.8048828840255737, var_u =0.8042457699775696, var_y=1.100000023841858\n",
      "tensor(0.)\n",
      "\n",
      "Epoch 6/100, loss_fit = 0.34, encoder_loss = 1.51, phi= 0.8058578968048096, var_u =0.8050645589828491, var_y=1.100000023841858\n",
      "tensor(0.)\n",
      "\n",
      "Epoch 7/100, loss_fit = 0.33, encoder_loss = 1.48, phi= 0.8068483471870422, var_u =0.8059373497962952, var_y=1.100000023841858\n",
      "tensor(0.)\n",
      "\n",
      "Epoch 8/100, loss_fit = 0.32, encoder_loss = 1.46, phi= 0.8078476190567017, var_u =0.8068329095840454, var_y=1.100000023841858\n",
      "tensor(0.)\n",
      "\n",
      "Epoch 9/100, loss_fit = 0.34, encoder_loss = 1.44, phi= 0.808857798576355, var_u =0.8077652454376221, var_y=1.100000023841858\n",
      "tensor(0.)\n",
      "\n",
      "Epoch 10/100, loss_fit = 0.33, encoder_loss = 1.43, phi= 0.8098704814910889, var_u =0.8087177872657776, var_y=1.100000023841858\n",
      "tensor(0.)\n",
      "\n",
      "Epoch 11/100, loss_fit = 0.32, encoder_loss = 1.43, phi= 0.8108976483345032, var_u =0.809682309627533, var_y=1.100000023841858\n",
      "tensor(0.)\n"
     ]
    },
    {
     "ename": "KeyboardInterrupt",
     "evalue": "",
     "output_type": "error",
     "traceback": [
      "\u001b[1;31m---------------------------------------------------------------------------\u001b[0m",
      "\u001b[1;31mKeyboardInterrupt\u001b[0m                         Traceback (most recent call last)",
      "Cell \u001b[1;32mIn[65], line 31\u001b[0m\n\u001b[0;32m     28\u001b[0m yshat \u001b[39m=\u001b[39m model\u001b[39m.\u001b[39mdecoder(dat_sim[\u001b[39m\"\u001b[39m\u001b[39mx\u001b[39m\u001b[39m\"\u001b[39m], dhat_sim, uhat_sim)\n\u001b[0;32m     30\u001b[0m \u001b[39m# compute the loss\u001b[39;00m\n\u001b[1;32m---> 31\u001b[0m loss \u001b[39m=\u001b[39m criterion(yhat, data_true[\u001b[39m\"\u001b[39;49m\u001b[39my\u001b[39;49m\u001b[39m\"\u001b[39;49m],  yshat, dat_sim[\u001b[39m\"\u001b[39;49m\u001b[39my\u001b[39;49m\u001b[39m\"\u001b[39;49m], mask[\u001b[39m\"\u001b[39;49m\u001b[39my\u001b[39;49m\u001b[39m\"\u001b[39;49m])\n\u001b[0;32m     33\u001b[0m loss\u001b[39m.\u001b[39mbackward(retain_graph\u001b[39m=\u001b[39m\u001b[39mTrue\u001b[39;00m) \u001b[39m# we need to retain it because the loss function requires 2 passes through the decoder.. TODO: ACTUALLY THIS IS NOT THE BEHVAIOR I WANT, \u001b[39;00m\n\u001b[0;32m     34\u001b[0m \u001b[39mwith\u001b[39;00m torch\u001b[39m.\u001b[39mno_grad():   \n",
      "File \u001b[1;32mc:\\Users\\Willwhite\\AppData\\Local\\miniconda\\envs\\pytorch\\lib\\site-packages\\torch\\nn\\modules\\module.py:1194\u001b[0m, in \u001b[0;36mModule._call_impl\u001b[1;34m(self, *input, **kwargs)\u001b[0m\n\u001b[0;32m   1190\u001b[0m \u001b[39m# If we don't have any hooks, we want to skip the rest of the logic in\u001b[39;00m\n\u001b[0;32m   1191\u001b[0m \u001b[39m# this function, and just call forward.\u001b[39;00m\n\u001b[0;32m   1192\u001b[0m \u001b[39mif\u001b[39;00m \u001b[39mnot\u001b[39;00m (\u001b[39mself\u001b[39m\u001b[39m.\u001b[39m_backward_hooks \u001b[39mor\u001b[39;00m \u001b[39mself\u001b[39m\u001b[39m.\u001b[39m_forward_hooks \u001b[39mor\u001b[39;00m \u001b[39mself\u001b[39m\u001b[39m.\u001b[39m_forward_pre_hooks \u001b[39mor\u001b[39;00m _global_backward_hooks\n\u001b[0;32m   1193\u001b[0m         \u001b[39mor\u001b[39;00m _global_forward_hooks \u001b[39mor\u001b[39;00m _global_forward_pre_hooks):\n\u001b[1;32m-> 1194\u001b[0m     \u001b[39mreturn\u001b[39;00m forward_call(\u001b[39m*\u001b[39m\u001b[39minput\u001b[39m, \u001b[39m*\u001b[39m\u001b[39m*\u001b[39mkwargs)\n\u001b[0;32m   1195\u001b[0m \u001b[39m# Do not call functions when jit is used\u001b[39;00m\n\u001b[0;32m   1196\u001b[0m full_backward_hooks, non_full_backward_hooks \u001b[39m=\u001b[39m [], []\n",
      "Cell \u001b[1;32mIn[63], line 15\u001b[0m, in \u001b[0;36mOneLoss.forward\u001b[1;34m(self, y, yhat, ys, yshat, mask)\u001b[0m\n\u001b[0;32m     13\u001b[0m \u001b[39mdef\u001b[39;00m \u001b[39mforward\u001b[39m(\u001b[39mself\u001b[39m, y, yhat, ys, yshat, mask):\n\u001b[0;32m     14\u001b[0m     \u001b[39m\"\"\"Computes the loss. hat is recontructed y, ys is simulated\"\"\"\u001b[39;00m\n\u001b[1;32m---> 15\u001b[0m     loss_sample \u001b[39m=\u001b[39m torch\u001b[39m.\u001b[39;49msum(y \u001b[39m*\u001b[39;49m yhat \u001b[39m*\u001b[39;49m mask) \u001b[39m/\u001b[39m torch\u001b[39m.\u001b[39msum(\u001b[39m~\u001b[39mmask)\n\u001b[0;32m     16\u001b[0m     loss_simulated \u001b[39m=\u001b[39m torch\u001b[39m.\u001b[39msum(ys \u001b[39m*\u001b[39m  yshat \u001b[39m*\u001b[39m mask) \u001b[39m/\u001b[39m torch\u001b[39m.\u001b[39msum(\u001b[39m~\u001b[39mmask)\n\u001b[0;32m     18\u001b[0m     \u001b[39mreturn\u001b[39;00m loss_sample \u001b[39m-\u001b[39m loss_simulated\n",
      "\u001b[1;31mKeyboardInterrupt\u001b[0m: "
     ]
    }
   ],
   "source": [
    "criterion = OneLoss()\n",
    "learning_rate = 0.001\n",
    "max_gradient_value = 0.1\n",
    "optimizer = torch.optim.Adam(model.decoder.parameters())\n",
    "scheduler = torch.optim.lr_scheduler.StepLR(optimizer, step_size=30, gamma=0.1)\n",
    "mseLoss = nn.MSELoss()\n",
    "epochs = 100\n",
    "\n",
    "for epoch in range(1, epochs +1):\n",
    "    optimizer.zero_grad()\n",
    "\n",
    "    print(torch.min(data_true[\"y\"]))\n",
    "\n",
    "    # impute and sample\n",
    "    with torch.no_grad():\n",
    "        # data_true[\"y\"] = model.impute(data_true[\"x\"], data_true[\"y\"], mask=mask[\"y\"], nsteps=5)\n",
    "        # simulate data from the current parameter values, Unconditionally (!)\n",
    "        dat_sim = model.sample(n, x=data_true[\"x\"])\n",
    "        # compute the imputing values without the gradients\n",
    "        dhat_sample, uhat_sample = model.encoder(data_true[\"x\"], data_true[\"y\"])\n",
    "        dhat_sim, uhat_sim = model.encoder(dat_sim[\"x\"], dat_sim[\"y\"])\n",
    "\n",
    "    # train the encoder \n",
    "    encoder_loss = model.encoder_fit(dat_sim[\"x\"], dat_sim[\"y\"], dat_sim[\"d\"], dat_sim[\"u\"], epochs= 10 ) \n",
    "    \n",
    "    # compute the decoded value\n",
    "    yhat = model.decoder(data_true[\"x\"], dhat_sample, uhat_sample)\n",
    "    yshat = model.decoder(dat_sim[\"x\"], dhat_sim, uhat_sim)\n",
    "\n",
    "    # compute the loss\n",
    "    loss = criterion(yhat, data_true[\"y\"],  yshat, dat_sim[\"y\"], mask[\"y\"])\n",
    "\n",
    "    loss.backward(retain_graph=True) # we need to retain it because the loss function requires 2 passes through the decoder.. TODO: ACTUALLY THIS IS NOT THE BEHVAIOR I WANT, \n",
    "    with torch.no_grad():   \n",
    "        fit = mseLoss(yhat, data_true[\"y\"])\n",
    "\n",
    "    torch.nn.utils.clip_grad_norm_(model.decoder.parameters(), max_norm=.1)\n",
    "    optimizer.step()\n",
    "    scheduler.step()\n",
    "\n",
    "    print(f\"\\nEpoch {epoch}/{epochs}, loss_fit = {fit.item():.2f}, encoder_loss = {encoder_loss.item():.2f}, phi= {model.decoder.phi.item()}, var_u ={model.decoder.var_u[0,0,0].item()}, var_y={model.decoder.var_y[0,0,0].item()}\")"
   ]
  },
  {
   "cell_type": "code",
   "execution_count": null,
   "metadata": {},
   "outputs": [
    {
     "data": {
      "image/png": "[encoded data removed]",
      "text/plain": [
       "<Figure size 640x480 with 1 Axes>"
      ]
     },
     "metadata": {},
     "output_type": "display_data"
    }
   ],
   "source": [
    "with torch.no_grad():\n",
    "    dhat, uhat = model.encoder(data_true[\"x\"], data_true[\"y\"])\n",
    "    yhat = model.decoder(data_true[\"x\"], dhat, uhat)\n",
    "\n",
    "plt.scatter(data_true[\"y\"], yhat)\n",
    "plt.plot([-10, 10], [-10, 10], color=\"red\")\n",
    "plt.show()"
   ]
  },
  {
   "cell_type": "code",
   "execution_count": null,
   "metadata": {},
   "outputs": [
    {
     "data": {
      "text/plain": [
       "tensor(-3.1015)"
      ]
     },
     "execution_count": 656,
     "metadata": {},
     "output_type": "execute_result"
    }
   ],
   "source": [
    "torch.min(yhat)"
   ]
  },
  {
   "cell_type": "code",
   "execution_count": null,
   "metadata": {},
   "outputs": [],
   "source": [
    "dhat = dhat*-1\n",
    "plt.scatter(dhat, data_true[\"d\"])\n",
    "plt.plot([-2, 2], [-2,2], color=\"red\")"
   ]
  },
  {
   "cell_type": "code",
   "execution_count": null,
   "metadata": {},
   "outputs": [],
   "source": [
    "# print 12 randomly selected Z\n",
    "index = np.random.choice(range(n), 12, replace=False)\n",
    "fig, axs = plt.subplots(3, 4)\n",
    "\n",
    "zhat= -gl.decoder.AR(dhat).detach()\n",
    "z_true= gl_true.decoder.AR(data_true[\"d\"]).detach()\n",
    "fig.suptitle(\"Ztrue vs Zest across time\")\n",
    "for i in range(12):\n",
    "    axs[i//4, i%4].plot(zhat[index[i],:,0]*-1)\n",
    "    axs[i//4, i%4].plot(z_true[index[i],:, 0], color=\"red\")"
   ]
  },
  {
   "cell_type": "code",
   "execution_count": null,
   "metadata": {},
   "outputs": [],
   "source": [
    "par_true = gl_true.decoder.parameters().__next__().detach().squeeze()\n",
    "par_est = gl.decoder.parameters().__next__() .detach().squeeze()"
   ]
  },
  {
   "cell_type": "code",
   "execution_count": null,
   "metadata": {},
   "outputs": [],
   "source": [
    "plt.scatter(-par_true, par_est)\n",
    "plt.plot([-2,2], [2, -2])"
   ]
  },
  {
   "cell_type": "code",
   "execution_count": null,
   "metadata": {},
   "outputs": [],
   "source": []
  },
  {
   "cell_type": "code",
   "execution_count": null,
   "metadata": {},
   "outputs": [],
   "source": [
    "rnn = nn.RNN(10, 20, 2)\n",
    "input = torch.randn(5, 3, 10)\n",
    "h0 = torch.randn(2, 3, 20)\n",
    "output, hn = rnn(input, h0)"
   ]
  },
  {
   "cell_type": "code",
   "execution_count": null,
   "metadata": {},
   "outputs": [],
   "source": [
    "input"
   ]
  },
  {
   "attachments": {},
   "cell_type": "markdown",
   "metadata": {},
   "source": [
    "### Details on tensor products calculations\n",
    "We now show the details on the tensor products, for instance for computing `xb @ wx`. `xb` is of size `(n, T, q)` and `wx` is of size `(T, q, p)`. We want a result of size `(n, T, p)`. First we add a dimension for `xb`:\n",
    "\n",
    "`xb.unsqueeze(2)` which yields a dimensions of `(n, T, 1, q)`\n",
    "\n",
    "which we then multiply by `wz`:\n",
    "\n",
    "`(n, T, 1, q) @ (1, q, p)` -> `(n, T, 1, p)`\n",
    "\n",
    "where the first dimension of `wx` has been broadcasted.\n",
    "\n",
    "Finally, we squeeze to obtain `(n, T, p)`."
   ]
  },
  {
   "attachments": {},
   "cell_type": "markdown",
   "metadata": {},
   "source": [
    "### Details on the computation of the forward pass\n",
    "\n",
    "The forward pass depends on $z_{it}$. According to the model, we have\n",
    "\n",
    "$$z_{i1} \\sim N(0,\\sigma_z^2).$$\n",
    "\n",
    "For identifiability reason, we have $z_{i1} = \\delta_{i1}$ where $\\delta_{i1}\\sim N(0,1)$\n",
    "\n",
    "and then\n",
    "\n",
    "$$z_{it+1} = \\phi z_{it} + \\delta{it}$$\n",
    "\n",
    "$$z_{i2} = \\phi \\delta_{i1} + \\delta_{i1}$$\n",
    "\n",
    "$$z_{i4} = \\phi z_{i3} + \\delta_{i3} \\Rightarrow z_{i3} = \\phi^2 \\delta_{i1} + \\phi \\delta_{i2} + \\delta_{i3}$$\n",
    "\n",
    "$$z_{it+1} = \\phi^{t-1}\\delta_{i1} + ... + \\phi \\delta_{it-1} + \\delta_{it}$$\n",
    "\n",
    "\n",
    "So we do not need in-place computations in the forward pass. \n"
   ]
  }
 ],
 "metadata": {
  "kernelspec": {
   "display_name": "pytorch",
   "language": "python",
   "name": "python3"
  },
  "language_info": {
   "codemirror_mode": {
    "name": "ipython",
    "version": 3
   },
   "file_extension": ".py",
   "mimetype": "text/x-python",
   "name": "python",
   "nbconvert_exporter": "python",
   "pygments_lexer": "ipython3",
   "version": "3.10.9"
  },
  "orig_nbformat": 4,
  "vscode": {
   "interpreter": {
    "hash": "02379b91627ead677140c441995c323138285dea806245dca7a173ada35ac023"
   }
  }
 },
 "nbformat": 4,
 "nbformat_minor": 2
}

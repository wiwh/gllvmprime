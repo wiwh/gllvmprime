{
 "cells": [
  {
   "cell_type": "code",
   "execution_count": 31,
   "metadata": {},
   "outputs": [
    {
     "name": "stdout",
     "output_type": "stream",
     "text": [
      "tensor([  0., -20.])\n"
     ]
    }
   ],
   "source": [
    "import torch\n",
    "\n",
    "# Create a tensor with requires_grad=True\n",
    "x = torch.tensor([1.0, 2.0], requires_grad=True)\n",
    "\n",
    "# Use the tensor in a simple operation\n",
    "y = x * 2\n",
    "\n",
    "# first element of y must be 10\n",
    "\n",
    "y2 = y - (y +10)* torch.tensor([1,0])\n",
    "\n",
    "\n",
    "# Compute a loss and backward\n",
    "loss = torch.prod(y2)\n",
    "loss.backward()\n",
    "\n",
    "print(x.grad)  # Gradients for x\n"
   ]
  },
  {
   "cell_type": "code",
   "execution_count": 3,
   "metadata": {},
   "outputs": [
    {
     "data": {
      "text/plain": [
       "485165195.4097903"
      ]
     },
     "execution_count": 3,
     "metadata": {},
     "output_type": "execute_result"
    }
   ],
   "source": [
    "import numpy as np\n",
    "np.exp(20)"
   ]
  },
  {
   "cell_type": "code",
   "execution_count": 39,
   "metadata": {},
   "outputs": [
    {
     "name": "stdout",
     "output_type": "stream",
     "text": [
      "tensor([     0.0000, 162754.7812])\n"
     ]
    }
   ],
   "source": [
    "import torch\n",
    "\n",
    "# Create a tensor with requires_grad=True\n",
    "x = torch.tensor([1.0, 2.0], requires_grad=True)\n",
    "\n",
    "y = torch.where(torch.tensor([True, False]), 10., x)\n",
    "\n",
    "# Compute a loss and backward\n",
    "loss = torch.prod(torch.exp(y))\n",
    "loss.backward()\n",
    "\n",
    "print(x.grad)  # Gradients for x\n"
   ]
  },
  {
   "cell_type": "code",
   "execution_count": 40,
   "metadata": {},
   "outputs": [
    {
     "name": "stdout",
     "output_type": "stream",
     "text": [
      "tensor([162754.7812, 162754.7812])\n"
     ]
    }
   ],
   "source": [
    "import torch\n",
    "\n",
    "# Create a tensor with requires_grad=True\n",
    "x = torch.tensor([10.0, 2.0], requires_grad=True)\n",
    "y = x.clone()\n",
    "\n",
    "# Compute a loss and backward\n",
    "loss = torch.prod(torch.exp(y))\n",
    "loss.backward()\n",
    "\n",
    "print(x.grad)  # Gradients for x\n"
   ]
  },
  {
   "cell_type": "code",
   "execution_count": 49,
   "metadata": {},
   "outputs": [
    {
     "name": "stdout",
     "output_type": "stream",
     "text": [
      "tensor([3., 4.])\n"
     ]
    }
   ],
   "source": [
    "import torch\n",
    "\n",
    "# Create a tensor with requires_grad=True\n",
    "x = torch.nn.Parameter(torch.tensor([5.0, 2.0]))\n",
    "w = torch.tensor([3., 4.])\n",
    "# Use the tensor in a simple operation\n",
    "mask = torch.tensor([1, 0], dtype=torch.bool)\n",
    "x.data = torch.where(mask, 1., x)\n",
    "loss = x @ w\n",
    "\n",
    "loss.backward()\n",
    "print(x.grad)\n"
   ]
  },
  {
   "cell_type": "code",
   "execution_count": 57,
   "metadata": {},
   "outputs": [
    {
     "name": "stdout",
     "output_type": "stream",
     "text": [
      "tensor([     0.0000, 239496.5625])\n"
     ]
    }
   ],
   "source": [
    "import torch\n",
    "\n",
    "# Create a tensor with requires_grad=True\n",
    "x = torch.nn.Parameter(torch.tensor([5.0, 2.0]))\n",
    "w = torch.tensor([3., 4.])\n",
    "# Use the tensor in a simple operation\n",
    "mask = torch.tensor([True, False])\n",
    "x2 = x * ~mask + mask*1.0\n",
    "loss = torch.exp(x2 @ w)\n",
    "\n",
    "loss.backward()\n",
    "print(x.grad)\n"
   ]
  },
  {
   "cell_type": "code",
   "execution_count": 58,
   "metadata": {},
   "outputs": [
    {
     "name": "stdout",
     "output_type": "stream",
     "text": [
      "tensor([179622.4219, 239496.5625])\n"
     ]
    }
   ],
   "source": [
    "import torch\n",
    "\n",
    "# Create a tensor with requires_grad=True\n",
    "x = torch.nn.Parameter(torch.tensor([1.0, 2.0]))\n",
    "w = torch.tensor([3., 4.])\n",
    "# Use the tensor in a simple operation\n",
    "loss = torch.exp(x @ w)\n",
    "\n",
    "loss.backward()\n",
    "print(x.grad)\n"
   ]
  },
  {
   "cell_type": "code",
   "execution_count": 48,
   "metadata": {},
   "outputs": [
    {
     "name": "stdout",
     "output_type": "stream",
     "text": [
      "tensor([3., 4.])\n"
     ]
    }
   ],
   "source": [
    "import torch\n",
    "\n",
    "# Create a tensor with requires_grad=True\n",
    "x = torch.nn.Parameter(torch.tensor([1.0, 2.0]))\n",
    "w = torch.tensor([3., 4.])\n",
    "# Use the tensor in a simple operation\n",
    "loss = x @ w\n",
    "\n",
    "loss.backward()\n",
    "print(x.grad)\n"
   ]
  },
  {
   "cell_type": "code",
   "execution_count": 32,
   "metadata": {},
   "outputs": [
    {
     "name": "stdout",
     "output_type": "stream",
     "text": [
      "tensor([3., 4.])\n",
      "None\n"
     ]
    }
   ],
   "source": [
    "import torch\n",
    "\n",
    "# Create a tensor with requires_grad=True\n",
    "x = torch.nn.Parameter(torch.tensor([5.0, 2.0], requires_grad=True))\n",
    "w = torch.tensor([3., 4.])\n",
    "\n",
    "# Use the tensor in a simple operation\n",
    "mask = torch.tensor([1, 0], dtype=torch.bool)\n",
    "x.data[mask] = 1.  # Modify in-place\n",
    "\n",
    "loss = x @ w\n",
    "loss.backward()\n",
    "\n",
    "print(x.grad)\n",
    "print(w.grad)\n"
   ]
  },
  {
   "cell_type": "code",
   "execution_count": 60,
   "metadata": {},
   "outputs": [
    {
     "name": "stdout",
     "output_type": "stream",
     "text": [
      "Parameter containing:\n",
      "tensor([5.0000, 1.9600], requires_grad=True)\n"
     ]
    }
   ],
   "source": [
    "import torch\n",
    "import torch.nn as nn\n",
    "\n",
    "class MyModel(nn.Module):\n",
    "    def __init__(self):\n",
    "        super(MyModel, self).__init__()\n",
    "        self.param = nn.Parameter(torch.tensor([5.0, 2.0]))\n",
    "\n",
    "        # Register backward hook\n",
    "        self.param.register_hook(self.zero_grad_hook)\n",
    "\n",
    "    def zero_grad_hook(self, grad):\n",
    "        # Set the gradient of the first element to 0\n",
    "        grad[0] = 0.\n",
    "        return grad\n",
    "\n",
    "    def forward(self, x):\n",
    "        # ... some computation ...\n",
    "        return x * self.param\n",
    "\n",
    "# Example usage\n",
    "model = MyModel()\n",
    "optimizer = torch.optim.SGD(model.parameters(), lr=0.01)\n",
    "\n",
    "x = torch.tensor([3.0, 4.0])\n",
    "output = model(x)\n",
    "loss = output.sum()\n",
    "loss.backward()\n",
    "\n",
    "optimizer.step()\n",
    "print(model.param)  # Only the second element should be updated\n"
   ]
  },
  {
   "cell_type": "code",
   "execution_count": 23,
   "metadata": {},
   "outputs": [
    {
     "ename": "RuntimeError",
     "evalue": "Trying to backward through the graph a second time (or directly access saved tensors after they have already been freed). Saved intermediate values of the graph are freed when you call .backward() or autograd.grad(). Specify retain_graph=True if you need to backward through the graph a second time or if you need to access saved tensors after calling backward.",
     "output_type": "error",
     "traceback": [
      "\u001b[1;31m---------------------------------------------------------------------------\u001b[0m",
      "\u001b[1;31mRuntimeError\u001b[0m                              Traceback (most recent call last)",
      "Cell \u001b[1;32mIn[23], line 9\u001b[0m\n\u001b[0;32m      7\u001b[0m \u001b[39m# Compute a loss and backward\u001b[39;00m\n\u001b[0;32m      8\u001b[0m loss \u001b[39m=\u001b[39m torch\u001b[39m.\u001b[39mprod(y_fixed)\n\u001b[1;32m----> 9\u001b[0m loss\u001b[39m.\u001b[39;49mbackward()\n\u001b[0;32m     11\u001b[0m \u001b[39mprint\u001b[39m(x\u001b[39m.\u001b[39mgrad)\n",
      "File \u001b[1;32mc:\\Users\\Willwhite\\AppData\\Local\\miniconda\\envs\\pytorch\\lib\\site-packages\\torch\\_tensor.py:488\u001b[0m, in \u001b[0;36mTensor.backward\u001b[1;34m(self, gradient, retain_graph, create_graph, inputs)\u001b[0m\n\u001b[0;32m    478\u001b[0m \u001b[39mif\u001b[39;00m has_torch_function_unary(\u001b[39mself\u001b[39m):\n\u001b[0;32m    479\u001b[0m     \u001b[39mreturn\u001b[39;00m handle_torch_function(\n\u001b[0;32m    480\u001b[0m         Tensor\u001b[39m.\u001b[39mbackward,\n\u001b[0;32m    481\u001b[0m         (\u001b[39mself\u001b[39m,),\n\u001b[1;32m   (...)\u001b[0m\n\u001b[0;32m    486\u001b[0m         inputs\u001b[39m=\u001b[39minputs,\n\u001b[0;32m    487\u001b[0m     )\n\u001b[1;32m--> 488\u001b[0m torch\u001b[39m.\u001b[39;49mautograd\u001b[39m.\u001b[39;49mbackward(\n\u001b[0;32m    489\u001b[0m     \u001b[39mself\u001b[39;49m, gradient, retain_graph, create_graph, inputs\u001b[39m=\u001b[39;49minputs\n\u001b[0;32m    490\u001b[0m )\n",
      "File \u001b[1;32mc:\\Users\\Willwhite\\AppData\\Local\\miniconda\\envs\\pytorch\\lib\\site-packages\\torch\\autograd\\__init__.py:197\u001b[0m, in \u001b[0;36mbackward\u001b[1;34m(tensors, grad_tensors, retain_graph, create_graph, grad_variables, inputs)\u001b[0m\n\u001b[0;32m    192\u001b[0m     retain_graph \u001b[39m=\u001b[39m create_graph\n\u001b[0;32m    194\u001b[0m \u001b[39m# The reason we repeat same the comment below is that\u001b[39;00m\n\u001b[0;32m    195\u001b[0m \u001b[39m# some Python versions print out the first line of a multi-line function\u001b[39;00m\n\u001b[0;32m    196\u001b[0m \u001b[39m# calls in the traceback and some print out the last line\u001b[39;00m\n\u001b[1;32m--> 197\u001b[0m Variable\u001b[39m.\u001b[39;49m_execution_engine\u001b[39m.\u001b[39;49mrun_backward(  \u001b[39m# Calls into the C++ engine to run the backward pass\u001b[39;49;00m\n\u001b[0;32m    198\u001b[0m     tensors, grad_tensors_, retain_graph, create_graph, inputs,\n\u001b[0;32m    199\u001b[0m     allow_unreachable\u001b[39m=\u001b[39;49m\u001b[39mTrue\u001b[39;49;00m, accumulate_grad\u001b[39m=\u001b[39;49m\u001b[39mTrue\u001b[39;49;00m)\n",
      "\u001b[1;31mRuntimeError\u001b[0m: Trying to backward through the graph a second time (or directly access saved tensors after they have already been freed). Saved intermediate values of the graph are freed when you call .backward() or autograd.grad(). Specify retain_graph=True if you need to backward through the graph a second time or if you need to access saved tensors after calling backward."
     ]
    }
   ],
   "source": [
    "\n",
    "# Create a mask indicating which elements to change\n",
    "mask = torch.tensor([1, 0], dtype=torch.bool)\n",
    "\n",
    "# Using torch.where to apply the mask\n",
    "y_fixed = torch.where(mask, 10., y)\n",
    "\n",
    "# Compute a loss and backward\n",
    "loss = torch.prod(y_fixed)\n",
    "loss.backward()\n",
    "\n",
    "print(x.grad)  # Gradients for x\n"
   ]
  }
 ],
 "metadata": {
  "kernelspec": {
   "display_name": "pytorch",
   "language": "python",
   "name": "python3"
  },
  "language_info": {
   "codemirror_mode": {
    "name": "ipython",
    "version": 3
   },
   "file_extension": ".py",
   "mimetype": "text/x-python",
   "name": "python",
   "nbconvert_exporter": "python",
   "pygments_lexer": "ipython3",
   "version": "3.10.9"
  },
  "orig_nbformat": 4
 },
 "nbformat": 4,
 "nbformat_minor": 2
}

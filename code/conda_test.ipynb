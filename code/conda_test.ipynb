{
 "cells": [
  {
   "cell_type": "code",
   "execution_count": 1,
   "metadata": {},
   "outputs": [
    {
     "name": "stdout",
     "output_type": "stream",
     "text": [
      "CUDA is available. Using GPU.\n",
      "Result:\n",
      "tensor([[0.9761, 0.0975, 0.9503, 0.6413, 0.6057],\n",
      "        [0.0975, 0.0590, 0.1083, 0.2144, 0.0420],\n",
      "        [0.9503, 0.1083, 0.9341, 0.6934, 0.5943],\n",
      "        [0.6413, 0.2144, 0.6934, 1.0333, 0.3940],\n",
      "        [0.6057, 0.0420, 0.5943, 0.3940, 0.4007]], device='cuda:0')\n"
     ]
    }
   ],
   "source": [
    "import torch\n",
    "\n",
    "# Check if CUDA is available\n",
    "if torch.cuda.is_available():\n",
    "    device = torch.device(\"cuda\")\n",
    "    print(\"CUDA is available. Using GPU.\")\n",
    "else:\n",
    "    device = torch.device(\"cpu\")\n",
    "    print(\"CUDA is not available. Using CPU.\")\n",
    "\n",
    "# Create a random tensor and move it to the selected device\n",
    "x = torch.rand(5, 3).to(device)\n",
    "\n",
    "# Perform a simple operation\n",
    "y = torch.matmul(x, x.t())\n",
    "\n",
    "# Print the result\n",
    "print(\"Result:\")\n",
    "print(y)\n"
   ]
  }
 ],
 "metadata": {
  "kernelspec": {
   "display_name": "pytorch",
   "language": "python",
   "name": "python3"
  },
  "language_info": {
   "codemirror_mode": {
    "name": "ipython",
    "version": 3
   },
   "file_extension": ".py",
   "mimetype": "text/x-python",
   "name": "python",
   "nbconvert_exporter": "python",
   "pygments_lexer": "ipython3",
   "version": "3.10.10"
  },
  "orig_nbformat": 4
 },
 "nbformat": 4,
 "nbformat_minor": 2
}

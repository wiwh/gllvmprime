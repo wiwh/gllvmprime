{
 "cells": [
  {
   "attachments": {},
   "cell_type": "markdown",
   "metadata": {},
   "source": [
    "# GLLVM for longitudinal data: a pytorch implementation\n",
    "\n",
    "We consider the following model"
   ]
  },
  {
   "attachments": {},
   "cell_type": "markdown",
   "metadata": {},
   "source": [
    "\n",
    " ## Model Specification\n",
    "\n",
    "Let  $y_{i1t},y_{i2t},\\ldots,y_{ipt}$  be a set of $p$ response or observed variables at time $t,\\ t=1,\\ldots,T$ for  individual $i,\\ i=1,\\ldots,n$. Let $\\mathbf{x}_{it}$ be a set of observed $k$-dimensional covariates at time $t,\\ t=1,\\ldots,T$.\n",
    "\n",
    "Models for multivariate longitudinal data have to account for the three sources of variability\n",
    "present in the data, that is (i) cross-sectional associations between the responses at a particular time point, (ii) cross-lagged\n",
    "associations between different responses at different occasions, and  (iii) the association between repeated measures of the same response\n",
    "over time. The first source of variability is accounted for\n",
    "a time-dependent latent variable $z_{i1}, z_{i2},\\ldots,z_{iT}$. Modeling the temporal evolution of the latent variable accounts for the cross-lagged associations between different responses over time.\n",
    "The third source of variability can be accounted for a set of item-specific random effects $\\mathbf{u}_{i}=(u_{i1}, \\ldots, u_{ip})'$.\n",
    "\n",
    "According to the GLLVM framework we have\n",
    "\n",
    "\\begin{align*}\n",
    "   \\nonumber y_{ijt}|\\mu_{ijt} &\\sim \\mathcal{F}_j(y_{ijt}\\vert \\mu_{ijt}, \\tau_j)\\\\\n",
    "   \\mu_{ijt}&=  g_j(\\eta_{ijt})=g_j(\\beta_{0jt} + \\mathbf{x}_{i}^{\\top}\\boldsymbol \\beta_{jt} + z_{it}^{\\top}\\lambda_{jt}+u_{ij}\\sigma_{u_j})\\\\ %  \\label{eqn:GLLVM-model2}\n",
    "\\end{align*}\n",
    "where $g_j(\\cdot),j=1,\\ldots,p$ is a known {\\it link function}, $\\eta_{ijt}=\\beta_{0jt} + \\mathbf{x}_{i}^{\\top}\\boldsymbol \\beta_{jt} + z_{it}^{\\top}\\lambda_{jt}+u_{ij},i=1,\\ldots,n,j=1,\\ldots,p, t=1,\\ldots,T$ is the {\\it linear predictor},  and $\\mathcal{F}_j(y_{ijt}\\vert \\eta_{ijt}, \\tau_j)$ denotes a distribution from the exponential family with mean $\\mu_{ijt}$ and response variable-specific dispersion parameter $\\tau_j$. \\vspace{5pt}\\\\\n",
    "The dynamics of the latent variable over time is modelled through a non-stationary autoregressive model of first order\n",
    "\n",
    "\\begin{equation*}\n",
    "z_{it}=\\phi z_{i,t-1} + \\delta_{it}\n",
    "\\end{equation*}%\n",
    "where  $z_{i1}\\sim N(0,\\sigma^2_{1})$ and $\\delta_{it}\\sim N(0,1)$.  Moreover, we assume the random effects independent of the latent variable and their common distribution $\\mathbf{u}_{i}\\sim N_p(\\mathbf{0}, \\boldsymbol I)$.\n",
    "\n",
    "\n",
    "### Changes I propose:\n",
    "\n",
    "allow x to depend on time.\n",
    "\n",
    "\n",
    "## Measurement invariance\n",
    "\n",
    "The  latent variable $z_{it}$ has to be the same (same meaning) across occasions.\n",
    "Thus the measurement invariance assumption has to be tested on the data, that is \n",
    "all the measurement parameters  are invariant across occasions, that is $$\\beta_{0jt}=\\beta_{0j} \\ \\textrm{and } \\ \\lambda_{jt}=\n",
    "\\lambda_{j},$$ for all $t$, $t=1, \\ldots, T$ and for all $j$, $j=1,\\ldots, p$.\n",
    "Under this assumption, the model is more parsimonious  and avoids some possible identification problem that might arise with\n",
    "increasing the number of time points.\n",
    "\n",
    "To ensure identification of the model, one necessary condition is that the latent variable has a scale and an origin. %When measurement\n",
    "%invariance of loadings and intercepts is imposed,\n",
    "Scale for  $z_{it}$  can be provided either by fixing one loading at a nonzero value or by\n",
    "fixing the factor variance at a nonzero value. In presence of longitudinal data, the same loading is fixed equal to one at each occasion.\n"
   ]
  },
  {
   "attachments": {},
   "cell_type": "markdown",
   "metadata": {},
   "source": [
    "## Fast prototyping using Pytorch\n",
    "\n",
    "We model each observation as a tuple of dimension `(T, p)`, common across individuals. Individuals constitute independent observations, which yields the tensor structure `(n, T, q)`. The time dimension `T` appears in the first dimension since it allows for seamless tensor products of the type `(n, T, q) (q, p)`.\n",
    "\n",
    "We need\n",
    "\n",
    "* A model that defines the generative process\n",
    "* A loss function which, upon taking the derivative, re-creates the estimating equations\n",
    "* A way to compute the latent variables. For now, we will use a neural network. Later, we can implement the real function.\n",
    "\n",
    "TODO:\n",
    "* allow for gaussian and binary data\n",
    "* Compute the gradient that define the model\n",
    "* allow for missing values and impute them"
   ]
  },
  {
   "cell_type": "code",
   "execution_count": 62,
   "metadata": {},
   "outputs": [],
   "source": [
    "import torch\n",
    "from torch import nn\n",
    "import numpy as np\n",
    "import math\n",
    "import matplotlib.pyplot as plt\n",
    "\n",
    "n = 100\n",
    "p = 15\n",
    "T = 20\n",
    "k = 8\n",
    "q = 1\n",
    "\n",
    "DIMENSIONS_Y = (n, T, p) \n",
    "DIMENSIONS_X = (n, T, k)\n",
    "DIMENSIONS_Z = (n, T, q)\n",
    "\n",
    "# TODO: refactor to have a module of two modules: encoder and decoder\n",
    "class GLLVM_longitudinal():\n",
    "    def __init__(self):\n",
    "        super().__init__()\n",
    "        self.encoder = Encoder()\n",
    "        self.decoder = Decoder()\n",
    "\n",
    "        # nuisance parameters\n",
    "        self.phi = torch.ones(1)\n",
    "        self.var_u = torch.ones((1,1,p))\n",
    "        self.var_y = torch.ones((1,1,p))\n",
    "        self.var_z = torch.ones((1,T,1))\n",
    "\n",
    "    def encoder_fit(self, x, y, z, u, epochs=100, verbose=False):\n",
    "        encoder_loss = nn.MSELoss()\n",
    "        encoder_opt = torch.optim.Adam(self.encoder.parameters())\n",
    "        for epoch in range(epochs):\n",
    "            (zhat, uhat) = self.encoder(x, y)\n",
    "            loss = encoder_loss(zhat, z) + encoder_loss(uhat, u)\n",
    "            if verbose:\n",
    "                print(f\"\\nEpoch {epoch}/{epochs}, loss={loss}\")\n",
    "            loss.backward()\n",
    "            encoder_opt.step()\n",
    "            encoder_opt.zero_grad()\n",
    "        \n",
    "    def sample(self, n, x=None, z=None, u=None, d=None):\n",
    "        \"\"\"Sample a longitudinal GLLVM, potentially with z, u, and d(elta), and return (x, z, u, d, y)\"\"\"\n",
    "\n",
    "        with torch.no_grad():\n",
    "            if x is None:\n",
    "                Warning(\"xb was set to None for sampling. This is usually unwanted unless k=0.\")\n",
    "                x = torch.randn((n, T, k))\n",
    "            if z is None:\n",
    "                z = torch.randn((n, T, q)) * torch.sqrt(self.var_z)\n",
    "\n",
    "            if d is None:\n",
    "                d = torch.randn((n, T, q))\n",
    "        \n",
    "            if u is None:\n",
    "                u = torch.randn((n, 1, p)) * torch.sqrt(self.var_u)\n",
    "        \n",
    "            z = self.AR(z, d)\n",
    "\n",
    "            eps = torch.randn((n, T, p)) * torch.sqrt(self.var_y)\n",
    "            y = self.decoder(x, z, u) + eps\n",
    "\n",
    "        return {\"x\":x, \"z\":z, \"u\":u, \"d\":d, \"y\":y}\n",
    "    \n",
    "    def AR(self, z, delta):\n",
    "        assert z.shape == delta.shape  # we draw the same shape for simplicity, even though we don't need delta for t=0.\n",
    "        for t in range(1, z.shape[1]):\n",
    "            z[:,t] = z[:, t-1] * self.phi + delta[:,t]\n",
    "        return z\n",
    "\n",
    "    def sample_z(self):\n",
    "        return None\n",
    "\n",
    "class Decoder(nn.Module):\n",
    "    def __init__(self):\n",
    "        super().__init__()\n",
    "\n",
    "        # decoder part (our parameters of interest)\n",
    "        self.wz = nn.Parameter(torch.randn((q, p)))\n",
    "        self.wx = nn.Parameter(torch.randn((T, k, p)))\n",
    "        self.bias = torch.zeros((1, T, p))\n",
    "\n",
    "    # decoding\n",
    "    def forward(self, x, z, u):\n",
    "        xwx = (x.unsqueeze(2) @ self.wx).squeeze() # see details of tensorproducts\n",
    "        zwz = (z.unsqueeze(2) @ self.wz).squeeze()\n",
    "        linpar = self.bias + xwx + zwz + u \n",
    "        return linpar\n",
    "\n",
    "\n",
    "class Encoder(nn.Module):\n",
    "    def __init__(self):\n",
    "        super().__init__()\n",
    "        # encoder part\n",
    "        # input dimension is T * (p+k)... we buuild a fully connected layer but it isn't necessary \n",
    "        # output dimension is T*q  + p (for Z and U, respectively)\n",
    "        self.enc_model = nn.Sequential(\n",
    "            nn.Linear(in_features=T*(p+k), out_features = 100),\n",
    "            nn.ReLU(),\n",
    "            nn.Linear(in_features=100, out_features = 100),\n",
    "            nn.ReLU(),\n",
    "            nn.Linear(in_features=100, out_features = 100),\n",
    "            nn.ReLU(),\n",
    "            nn.Linear(in_features=100, out_features = T*q + p)\n",
    "        )\n",
    "    \n",
    "    def forward(self, x, y):\n",
    "        xy = torch.cat([x, y], dim=2).flatten(start_dim=1)\n",
    "        zu = self.enc_model(xy)\n",
    "        return self.split_zu(zu)\n",
    "\n",
    "    def split_zu(self, zu):\n",
    "        #output dimension of size (T*Z), p\n",
    "        z, u = torch.split(zu, [T*q, p], dim=1)\n",
    "        z = z.reshape((z.shape[0], T, q))\n",
    "        u = u.unsqueeze(1)\n",
    "        return (z, u)\n",
    "\n"
   ]
  },
  {
   "cell_type": "code",
   "execution_count": 63,
   "metadata": {},
   "outputs": [],
   "source": [
    "gl_true = GLLVM_longitudinal()\n",
    "dat_true = gl_true.sample(n)\n",
    "\n",
    "gl = GLLVM_longitudinal()"
   ]
  },
  {
   "cell_type": "code",
   "execution_count": 64,
   "metadata": {},
   "outputs": [],
   "source": [
    "def my_loss(input, target):\n",
    "    return torch.sum(input*target, dim=[1,2]).mean()"
   ]
  },
  {
   "cell_type": "code",
   "execution_count": 65,
   "metadata": {},
   "outputs": [],
   "source": [
    "def evaluate_fit(input, target):\n",
    "    with torch.no_grad():\n",
    "        return torch.sum(torch.pow(input - target,2), dim=[1,2]).mean()"
   ]
  },
  {
   "cell_type": "code",
   "execution_count": 66,
   "metadata": {},
   "outputs": [],
   "source": [
    "with torch.no_grad():\n",
    "    dat_sim = gl.sample(n, x=dat_true[\"x\"]) # x are known and fixed\n",
    "\n",
    "# train the encoder\n",
    "\n",
    "gl.encoder_fit(dat_sim[\"x\"], dat_sim[\"y\"], dat_sim[\"z\"], dat_sim[\"u\"], epochs=40)"
   ]
  },
  {
   "cell_type": "code",
   "execution_count": 75,
   "metadata": {},
   "outputs": [
    {
     "name": "stdout",
     "output_type": "stream",
     "text": [
      "\n",
      "Epoch 1/200, loss = 550.702392578125\n",
      "\n",
      "Epoch 10/200, loss = 551.3311157226562\n",
      "\n",
      "Epoch 20/200, loss = 546.5269165039062\n",
      "\n",
      "Epoch 30/200, loss = 544.56298828125\n",
      "\n",
      "Epoch 40/200, loss = 540.64404296875\n",
      "\n",
      "Epoch 50/200, loss = 540.8994750976562\n",
      "\n",
      "Epoch 60/200, loss = 542.6029052734375\n",
      "\n",
      "Epoch 70/200, loss = 534.11962890625\n",
      "\n",
      "Epoch 80/200, loss = 527.8849487304688\n",
      "\n",
      "Epoch 90/200, loss = 524.4970703125\n",
      "\n",
      "Epoch 100/200, loss = 525.2862548828125\n",
      "\n",
      "Epoch 110/200, loss = 520.7421875\n",
      "\n",
      "Epoch 120/200, loss = 521.4757690429688\n",
      "\n",
      "Epoch 130/200, loss = 517.6575317382812\n",
      "\n",
      "Epoch 140/200, loss = 520.1500244140625\n",
      "\n",
      "Epoch 150/200, loss = 510.8114013671875\n",
      "\n",
      "Epoch 160/200, loss = 505.87811279296875\n",
      "\n",
      "Epoch 170/200, loss = 508.1427307128906\n",
      "\n",
      "Epoch 180/200, loss = 501.5238952636719\n",
      "\n",
      "Epoch 190/200, loss = 505.4755859375\n",
      "\n",
      "Epoch 200/200, loss = 501.4963684082031\n"
     ]
    }
   ],
   "source": [
    "kdecoder_loss = nn.MSELoss()\n",
    "decoder_opt = torch.optim.SGD(gl.decoder.parameters(), lr=1e-2)\n",
    "# decoder_opt = torch.optim.Adam(gl.decoder.parameters())\n",
    "\n",
    "epochs = 200\n",
    "lr = 1e-3\n",
    "for epoch in range(1, epochs+1):\n",
    "    with torch.no_grad():\n",
    "        dat_sim = gl.sample(n, x=dat_true[\"x\"]) # x are known and fixed\n",
    "\n",
    "    # train the encoder\n",
    "\n",
    "    gl.encoder_fit(dat_sim[\"x\"], dat_sim[\"y\"], dat_sim[\"z\"], dat_sim[\"u\"], epochs=20)\n",
    "    \n",
    "    # compute SPRIME sample step\n",
    "\n",
    "    # compute imputing values\n",
    "    with torch.no_grad():\n",
    "        zhat, uhat = gl.encoder(dat_true[\"x\"], dat_true[\"y\"])\n",
    "\n",
    "    linpar_sample = gl.decoder(dat_true[\"x\"], zhat, uhat)\n",
    "    loss = my_loss(linpar_sample, dat_true[\"y\"])\n",
    "    loss.backward()\n",
    "\n",
    "    with torch.no_grad():\n",
    "        for par in gl.decoder.parameters():\n",
    "            par += par.grad * lr   # notice the + sign here\n",
    "        gl.decoder.zero_grad()\n",
    "\n",
    "    # compute SPRIME sample step\n",
    "    # compute imputing values\n",
    "    with torch.no_grad():\n",
    "        zhat, uhat = gl.encoder(dat_sim[\"x\"], dat_sim[\"y\"])\n",
    "        \n",
    "    linpar_sim = gl.decoder(dat_sim[\"x\"], zhat, uhat)\n",
    "    loss = my_loss(linpar_sim, dat_sim[\"y\"])\n",
    "    loss.backward()\n",
    "\n",
    "    with torch.no_grad():\n",
    "        for par in gl.decoder.parameters():\n",
    "            par -= par.grad * lr  # notice the - sign here\n",
    "        gl.decoder.zero_grad()\n",
    "\n",
    "    # evaluate the model\n",
    "    if epoch == 1 or epoch % 10 == 0:\n",
    "        with torch.no_grad():\n",
    "            loss = evaluate_fit(linpar_sample, dat_true[\"y\"])\n",
    "\n",
    "        print(f\"\\nEpoch {epoch}/{epochs}, loss = {loss}\")\n",
    "\n",
    "    #with torch.no_grad():\n",
    "        #dat_sim = gl.sample(n)\n",
    "    #linpar = gl.decoder(dat_sim[\"x\"], dat_sim[\"z\"], dat_sim[\"u\"])\n",
    "\n",
    "    # decoder_opt.zero_grad()"
   ]
  },
  {
   "cell_type": "code",
   "execution_count": 76,
   "metadata": {},
   "outputs": [
    {
     "data": {
      "text/plain": [
       "<matplotlib.collections.PathCollection at 0x1a0c456cca0>"
      ]
     },
     "execution_count": 76,
     "metadata": {},
     "output_type": "execute_result"
    },
    {
     "data": {
      "image/png": "[encoded data removed]",
      "text/plain": [
       "<Figure size 640x480 with 1 Axes>"
      ]
     },
     "metadata": {},
     "output_type": "display_data"
    }
   ],
   "source": [
    "with torch.no_grad():\n",
    "    zhat, uhat = gl.encoder(dat_true[\"x\"], dat_true[\"y\"])\n",
    "    yhat = gl.decoder(dat_true[\"x\"], zhat, uhat)\n",
    "\n",
    "plt.scatter(dat_true[\"y\"], yhat)"
   ]
  },
  {
   "cell_type": "code",
   "execution_count": 77,
   "metadata": {},
   "outputs": [
    {
     "data": {
      "text/plain": [
       "<matplotlib.collections.PathCollection at 0x1a0c456ebf0>"
      ]
     },
     "execution_count": 77,
     "metadata": {},
     "output_type": "execute_result"
    },
    {
     "data": {
      "image/png": "[encoded data removed]",
      "text/plain": [
       "<Figure size 640x480 with 1 Axes>"
      ]
     },
     "metadata": {},
     "output_type": "display_data"
    }
   ],
   "source": [
    "plt.scatter(zhat, dat_true[\"z\"])"
   ]
  },
  {
   "cell_type": "code",
   "execution_count": 78,
   "metadata": {},
   "outputs": [
    {
     "data": {
      "text/plain": [
       "[<matplotlib.lines.Line2D at 0x1a0c47639d0>]"
      ]
     },
     "execution_count": 78,
     "metadata": {},
     "output_type": "execute_result"
    },
    {
     "data": {
      "image/png": "[encoded data removed]",
      "text/plain": [
       "<Figure size 640x480 with 1 Axes>"
      ]
     },
     "metadata": {},
     "output_type": "display_data"
    }
   ],
   "source": [
    "plt.plot(zhat[2,:,0])\n",
    "plt.plot(dat_true[\"z\"][2,:, 0], color=\"red\")"
   ]
  },
  {
   "cell_type": "code",
   "execution_count": 74,
   "metadata": {},
   "outputs": [],
   "source": [
    "par_true = [p.detach() for p in gl_true.decoder.parameters()]\n",
    "par_est  = [p.detach() for p in gl.decoder.parameters()] "
   ]
  },
  {
   "cell_type": "code",
   "execution_count": 54,
   "metadata": {},
   "outputs": [
    {
     "data": {
      "text/plain": [
       "[tensor([[ 0.3556, -0.2995,  0.7893, -0.2540,  0.9440,  1.2958,  0.4514, -1.3377,\n",
       "          -0.1495, -1.5014, -0.1585, -0.6954,  0.8590,  0.2383,  0.0258]]),\n",
       " tensor([[[-1.9579, -0.8219,  0.2535,  ...,  1.6867, -0.7033,  0.1138],\n",
       "          [ 0.7909,  1.1780,  1.4158,  ..., -1.1274,  0.6575,  0.6396],\n",
       "          [ 0.6319, -0.3979,  1.0861,  ...,  1.2242,  0.1099, -0.9744],\n",
       "          ...,\n",
       "          [-0.7450,  0.6957, -0.3879,  ...,  0.4249,  0.7023, -1.1321],\n",
       "          [ 0.8422, -0.0779,  1.8930,  ...,  1.0672,  1.3464,  0.0772],\n",
       "          [-0.6271, -0.4078,  0.1024,  ..., -0.2851,  0.1473,  0.3888]],\n",
       " \n",
       "         [[ 1.1347, -0.4051, -1.8024,  ...,  1.1496, -0.7099, -1.0913],\n",
       "          [ 0.6478,  0.8121, -0.4894,  ..., -0.2852, -1.7195, -0.5755],\n",
       "          [-1.4799, -1.0032,  0.0261,  ..., -0.9755, -1.1071, -1.5393],\n",
       "          ...,\n",
       "          [ 1.5439, -1.0070, -0.0348,  ...,  1.1596, -1.2074,  0.0673],\n",
       "          [-0.8018,  0.0882, -0.8066,  ..., -2.1391, -0.3920,  0.3701],\n",
       "          [ 2.9142, -1.2048, -0.5852,  ..., -1.0758, -0.7716,  1.1439]],\n",
       " \n",
       "         [[ 1.9885,  0.4123,  0.3740,  ...,  2.0568, -0.9704, -0.1948],\n",
       "          [ 1.3793,  0.2238, -1.6002,  ...,  0.7352,  0.9172, -0.9081],\n",
       "          [-1.4275,  0.7727,  0.3471,  ..., -0.8745, -0.1027, -1.0649],\n",
       "          ...,\n",
       "          [-0.8861,  0.5449,  0.0720,  ..., -1.2092, -1.5704, -1.6725],\n",
       "          [-2.3455, -0.6420,  1.8003,  ...,  0.0045, -0.7045, -0.5929],\n",
       "          [ 2.4590,  0.8366,  0.9599,  ...,  0.3184, -0.7507,  0.4548]],\n",
       " \n",
       "         ...,\n",
       " \n",
       "         [[ 0.6648,  0.5601, -0.2556,  ...,  0.6772,  1.7479, -0.3371],\n",
       "          [ 0.3727, -2.2159, -0.7877,  ...,  0.1748,  1.3177, -1.6151],\n",
       "          [-0.0439, -0.9518,  0.1587,  ..., -0.0921, -1.1756, -0.6554],\n",
       "          ...,\n",
       "          [-1.6474,  0.5418, -0.1288,  ..., -0.3541, -1.2522,  0.4391],\n",
       "          [ 0.2747, -1.0487,  0.1057,  ...,  0.5343,  0.2803, -0.2158],\n",
       "          [ 1.0215,  0.8750,  0.9128,  ..., -3.5839, -1.1703,  0.2365]],\n",
       " \n",
       "         [[-1.6370,  0.1987,  0.4400,  ...,  1.5412, -1.0917, -0.1316],\n",
       "          [-1.6425,  1.6139,  0.1563,  ...,  0.6032, -2.8415,  1.8166],\n",
       "          [ 0.1230, -1.5579, -0.3362,  ...,  0.2564, -0.7064,  1.0337],\n",
       "          ...,\n",
       "          [-0.4832, -0.2824,  1.1453,  ...,  0.4169, -1.6966, -0.3647],\n",
       "          [-0.8345, -0.0913,  0.1057,  ..., -0.0142,  1.0845, -0.1895],\n",
       "          [-2.3366, -1.6124,  0.5432,  ...,  0.8343,  1.1387, -0.8734]],\n",
       " \n",
       "         [[ 1.0600,  0.5707,  0.2883,  ..., -0.5657,  0.7564, -1.4171],\n",
       "          [ 0.4556,  1.3240, -0.5888,  ..., -0.4468, -0.1312,  0.0087],\n",
       "          [-0.2293, -0.5684, -1.0287,  ..., -2.0274,  1.4712, -2.1167],\n",
       "          ...,\n",
       "          [-0.1831,  0.5367, -0.7300,  ...,  2.1364,  0.6558, -0.9280],\n",
       "          [ 0.2856, -0.6832, -0.0738,  ...,  0.6988, -0.0129,  0.4790],\n",
       "          [-0.1437, -0.1522, -0.0144,  ..., -0.6755, -0.4893, -1.4136]]])]"
      ]
     },
     "execution_count": 54,
     "metadata": {},
     "output_type": "execute_result"
    }
   ],
   "source": [
    "par_true"
   ]
  },
  {
   "cell_type": "markdown",
   "metadata": {},
   "source": []
  },
  {
   "attachments": {},
   "cell_type": "markdown",
   "metadata": {},
   "source": [
    "### Details on tensor products calculations\n",
    "We now show the details on the tensor products, for instance for computing `xb @ wx`. `xb` is of size `(n, T, q)` and `wx` is of size `(T, q, p)`. We want a result of size `(n, T, p)`. First we add a dimension for `xb`:\n",
    "\n",
    "`xb.unsqueeze(2)` which yields a dimensions of `(n, T, 1, q)`\n",
    "\n",
    "which we then multiply by `wz`:\n",
    "\n",
    "`(n, T, 1, q) @ (1, q, p)` -> `(n, T, 1, p)`\n",
    "\n",
    "where the first dimension of `wx` has been broadcasted.\n",
    "\n",
    "Finally, we squeeze to obtain `(n, T, p)`."
   ]
  }
 ],
 "metadata": {
  "kernelspec": {
   "display_name": "pytorch",
   "language": "python",
   "name": "python3"
  },
  "language_info": {
   "codemirror_mode": {
    "name": "ipython",
    "version": 3
   },
   "file_extension": ".py",
   "mimetype": "text/x-python",
   "name": "python",
   "nbconvert_exporter": "python",
   "pygments_lexer": "ipython3",
   "version": "3.10.9"
  },
  "orig_nbformat": 4,
  "vscode": {
   "interpreter": {
    "hash": "02379b91627ead677140c441995c323138285dea806245dca7a173ada35ac023"
   }
  }
 },
 "nbformat": 4,
 "nbformat_minor": 2
}

{
 "cells": [
  {
   "attachments": {},
   "cell_type": "markdown",
   "metadata": {},
   "source": [
    "# Multivariate Poisson Lognormal (MPLN) model\n",
    "The MPLN model (?) relates some $p$-dimensional observation vectors $\\boldsymbol{Y}_i$ to some $p$-dimensional vectors of Gaussian latent variables $Z_i$ as follows\n",
    "$$\n",
    "\\begin{aligned}\n",
    "& \\boldsymbol{Y}_i\\left|\\boldsymbol{Z}_i \\sim \\operatorname{Poisson}\\left(e^{Z_i}\\right), \\quad Y_{i j}\\right| Z_{i j} \\text { indep. } \\\\\n",
    "& Z_i \\sim \\mathcal{N}\\left(\\boldsymbol{X}_i^{\\top} \\boldsymbol{B}_{d \\times p}, \\Sigma_{p \\times p}\\right)\n",
    "\\end{aligned}\n",
    "$$\n",
    "where\n",
    "- $Y_{i j}$ represents the $j$ th code of $i$ th patient with $i=1, \\cdots, n$ and $j=1, \\cdots, p, \\boldsymbol{Y}=\\left(\\boldsymbol{Y}_1, \\cdots, \\boldsymbol{Y}_n\\right)^{\\top} \\in$ $\\operatorname{Rn}^n \\times p$\n",
    "- $Z_i$ is the patient-level embedding of ith patient, $Z=\\left(Z_1, \\cdots, Z_n\\right)^{\\top} \\in \\mathbb{R}^{n \\times p}$,\n",
    "- $\\boldsymbol{X}_i$ is the covariates of ith patient, $\\boldsymbol{X}=\\left(\\boldsymbol{X}_1, \\cdots, \\boldsymbol{X}_n\\right)^{\\top} \\in \\mathbb{R}^{n \\times d}$\n",
    "## Leveraging external information for $\\Sigma$\n",
    "In the MPLN model, $\\boldsymbol{\\Sigma}$ describes the underlying residual relationships between the $p$ codes. We may decompose $\\boldsymbol{\\Sigma}=\\boldsymbol{V} \\boldsymbol{\\Lambda} \\boldsymbol{V}^{\\top}$, where $\\boldsymbol{V} \\in \\mathbb{R}^{p \\times q}$ is orthonormal and the rank $q \\leq p, \\boldsymbol{\\Lambda} \\in \\mathbb{R}^{q \\times q}$ is diagonal. Assuming that across different institution/dataset, the orientation/rotation $(\\boldsymbol{V})$ is the same but the shape/scaling $\\boldsymbol{\\Lambda}$ can be different, we may borrow $\\boldsymbol{V}$ that is obtained from external sources for model estimation. In that case, instead of estimating the full covariance matrix $\\mathbf{\\Sigma}$, we only need to estimate the diagnol matrix $\\boldsymbol{\\Lambda}$.\n",
    "An alternative way to write the model:\n",
    "$$\n",
    "\\begin{aligned}\n",
    "& \\boldsymbol{Y}_i\\left|\\boldsymbol{Z}_i \\sim \\operatorname{Poisson}\\left(e^{Z_i}\\right) \\quad, \\quad Y_{i j}\\right| Z_{i j} \\text { indep. } \\\\\n",
    "& \\boldsymbol{Z}_i={\\color{red}\\boldsymbol{B}^\\top\\boldsymbol{X}_i + \\boldsymbol{V} \\boldsymbol{\\Lambda}^{1 / 2}  \\boldsymbol{W}_i } \\quad, \\\\\n",
    "& \\boldsymbol{W}_i \\sim \\mathcal{N}\\left(0_q, \\boldsymbol{I}_{q \\times q}\\right) \\quad \\text { iid }\n",
    "\\end{aligned}\n",
    "$$"
   ]
  },
  {
   "attachments": {},
   "cell_type": "markdown",
   "metadata": {},
   "source": [
    "## Joint likelihood\n",
    "In matrix notation, $\\boldsymbol{Z}=\\boldsymbol{X} \\boldsymbol{B}+\\boldsymbol{W} \\boldsymbol{\\Lambda}^{1 / 2} \\boldsymbol{V}^{\\top}$. The observation matrix $\\boldsymbol{Y}$ only depends on $\\boldsymbol{Z}$ through $\\boldsymbol{B}, \\boldsymbol{\\Lambda}$ and $\\boldsymbol{W}$, and the complete log-likelihood is therefore\n",
    "$$\n",
    "\\begin{aligned}\n",
    "\\log p(\\boldsymbol{Y}, \\boldsymbol{W} ; \\boldsymbol{B}, \\boldsymbol{\\Lambda})= & \\sum_{i=1}^n \\log p\\left(\\boldsymbol{Y}_i \\mid \\boldsymbol{W}_i ; \\boldsymbol{B}, \\boldsymbol{\\Lambda}\\right)+\\log p\\left(\\boldsymbol{W}_i\\right) \\\\\n",
    "= & \\mathbf{1}_n^{\\top}\\left\\{\\boldsymbol{Y} \\odot\\left(\\boldsymbol{X} \\boldsymbol{B}+\\boldsymbol{W} \\boldsymbol{\\Lambda}^{1 / 2} \\boldsymbol{V}^{\\top}\\right)-\\exp \\left(\\boldsymbol{X} \\boldsymbol{B}+\\boldsymbol{W} \\boldsymbol{\\Lambda}^{1 / 2} \\boldsymbol{V}^{\\top}\\right)\\right\\} \\mathbf{1}_p \\\\\n",
    "& -\\frac{\\|\\boldsymbol{W}\\|_F^2}{2}-\\frac{n q}{2} \\log (2 \\pi)-\\mathbf{1}_n^{\\top} \\log (\\boldsymbol{Y} !) \\mathbf{1}_p\n",
    "\\end{aligned}\n",
    "$$"
   ]
  },
  {
   "attachments": {},
   "cell_type": "markdown",
   "metadata": {},
   "source": [
    "## Computing the MAP for W_i\n",
    "The estimate for $W_i$ is the maximizer of the above joint loglihood. It is also called the maximum a posteriori (the MAP). By observational independence each $W_i$ can be computed individually. What's more, by conditional independence (on W_i), the joint log-likelihood for $(Y_i, W_i)$ is\n",
    "\n",
    "$$\n",
    "\\log p(Y_i, W_i; B, A) = \\sum_{j=1}^p \\log p(y_{ij}|W_i;B, A) + \\log p(W_i) \n",
    "$$\n",
    "\n",
    "With derivative with respect to $W_i$ :\n",
    "\n",
    "$$\n",
    "\\nabla_{W_i} = \\frac{\\partial }{\\partial W_i}\\log p(Y_i, W_i ; \\boldsymbol{B}, \\boldsymbol{\\Lambda}) =\\\\ \\sum_{j=1}^p A^{1/2} V_j (y_{ij} - \\exp(x_{i}^\\top\\beta_j + W_i^\\top A^{1/2}V_j)) - W_i\n",
    "$$\n",
    "\n",
    "in matrix notations:\n",
    "\n",
    "$$\n",
    "\\nabla_{W_i} =   A^{1/2} V^\\top(Y_i - \\exp(B^\\top x_i + V A^{1/2} W_i )) - W_i\n",
    "$$\n",
    "\n",
    "Here the role of \"covariates\" are taken by $VA^{1/2}$ and that of  \"parameters\" by the $W_i$, with a l2-norm penalty in the $W_i$.\n",
    "\n",
    "The hessian is\n",
    "\n",
    "$$\n",
    "\\nabla^2_{W_i} = - (A^{1/2} V^\\top \\text{diag}(\\exp(B^\\top x_i + V A^{1/2} W_i )) V A^{1/2} + I_q)\n",
    "$$\n",
    "\n",
    "Solving for $W_i$ can be done by Newton method: starting at some value $W_i^{(t)}$, the next iterate is given by\n",
    "\n",
    "\n",
    "$$\n",
    "W_i^{(t+1)} = W_i^{(t)} - [\\nabla^2_{W_i}]^{-1} \\nabla_{W_i}, \n",
    "$$\n",
    "\n",
    "alternatively, IRLS could be used. Now, this needs to be done for every $W_i$. Instead of computing a hessian matrix for all $i$, we can get its diagonal elements instead, and approximate the hessian by a diagonal matrix, yielding a quasi-newton method. These matrices are easy to obtain, specifically, the diagonal element $[\\nabla^2_{W_i}]_{kk}$ is obtained as\n",
    "\n",
    "\n",
    "$$\n",
    "[\\nabla^2_{W_i}]_{kk} = (A^{1/2} V_{\\cdot k} \\odot \\mu_i ) ^\\top A^{1/2} V_{\\cdot k} \\odot \\mu_i  \n",
    "$$\n",
    "\n",
    "where $\\mu_i = \\exp(B^\\top x_i + V A^{1/2} W_i ) $. The diagonal can be computed at once as \n",
    "\n",
    "(A1/2 V) *mu_i**2.sum(dim=0)\n",
    "\n",
    "We can now use tensors to compute all diagonal elements at once\n",
    "\n",
    "\n"
   ]
  },
  {
   "attachments": {},
   "cell_type": "markdown",
   "metadata": {},
   "source": [
    "\n",
    "\n",
    "```python\n",
    "diag_elements = \n",
    "```\n",
    "\n",
    "\n",
    "This is easly computable for all $i$ simultaneously by\n",
    "\n",
    "\n",
    "\n",
    "\n",
    " Specifically, for each updating step, we need to compute $n$ hessian matrices.  \n",
    "\n"
   ]
  },
  {
   "attachments": {},
   "cell_type": "markdown",
   "metadata": {},
   "source": [
    "## 2.4 Simulation setting\n",
    "Let $n=5000, p=50$. Consider two scenarios: true covariance has full rank and has low rank.\n",
    "- Scenario 1 (true covariance with full rank):\n",
    "1. Generate $\\boldsymbol{\\Sigma}=A R_1(0.8)$. Find its eigen-decomposition $\\boldsymbol{\\Sigma}=\\boldsymbol{V} \\boldsymbol{\\Lambda} \\boldsymbol{V}^{\\top}$. \n",
    "2. Generate $\\boldsymbol{Z} \\sim \\mathcal{N}(\\mathbf{0}, \\boldsymbol{\\Sigma})$ and $\\boldsymbol{Y} \\sim \\operatorname{Poisson}\\left(e^{\\boldsymbol{Z}}\\right)$.\n",
    "3. Fit model with $\\boldsymbol{V}$,\n",
    "\n",
    "    a. (correct) assuming $\\boldsymbol{\\Sigma}$ has full rank, $\\boldsymbol{\\Lambda} \\in \\mathbb{R}^{p \\times p}$, we use the full $\\boldsymbol{V}$ here.\n",
    "    \n",
    "    b. (low rank appriximation) assuming $\\boldsymbol{\\Sigma}$ has lower rank, $\\Lambda \\in \\mathbb{R}^{q \\times q}$ with $q=20,10,5$, we only use $\\boldsymbol{V}_{[, 1: q]}$ here.\n",
    "\n",
    "- Scenario 2 (true covariance with low rank, $q=12$ ):\n",
    "1. Generate $\\boldsymbol{\\Sigma}=A R_1(0.8)$. Find its eigen-decomposition $\\boldsymbol{\\Sigma}=\\boldsymbol{V} \\boldsymbol{\\Lambda} \\boldsymbol{V}^{\\top}$.\n",
    "2. Let $\\tilde{\\boldsymbol{\\Sigma}}=\\boldsymbol{V}_{[, 1: q]} \\boldsymbol{\\Lambda}_{[1: q, 1: q]} \\boldsymbol{V}_{[, 1: q]}^T$. Find its eigen-decomposition $\\tilde{\\mathbf{\\Sigma}}=\\tilde{\\boldsymbol{V}} \\tilde{\\boldsymbol{\\Lambda}}^{\\top}$. This will be our true covariance with known rank $=q$. (In reality we observe $\\bar{\\Sigma}$ from external sources)\n",
    "4. Fit model with $\\vec{V}$.\n",
    "a. (neglecting low-rankness) assuming $\\Sigma$ has full rank, $\\Lambda \\in \\mathbb{R}^{p \\times p}$, we use the full $\\tilde{V}$ here.\n",
    "b. (correct) assuming $\\Sigma$ has lower rank, $\\Lambda \\in \\mathbb{R}^{q \\times q}$ with $q=20,10,5$, we only use $\\tilde{\\boldsymbol{V}}_{[, 1: q]}$. here. (In reality we don't know the true rank, so would also need to implement a procedure to select for the best $q$."
   ]
  },
  {
   "attachments": {},
   "cell_type": "markdown",
   "metadata": {},
   "source": [
    "## Some notes on implementation\n",
    "* The $q\\times q$ matrix $A$ is diagonal and its vector of diagonal elements $a$ must be strictly positive. This constraint identifies the model. To implement this constraint, at every iteration, if $a_j$ is negative , we multiply wlog both $a_j$ and the $j$ th latent variable $z_j$ by $-1$."
   ]
  },
  {
   "cell_type": "code",
   "execution_count": 76,
   "metadata": {},
   "outputs": [],
   "source": [
    "import numpy as np\n",
    "import torch\n",
    "from torch import nn\n",
    "\n",
    "def gen_Sigma(num_features, rho=0.8):\n",
    "    # AR1 parameters\n",
    "    rho = 0.8  # Autocorrelation coefficient\n",
    "\n",
    "    # Generate AR1 covariance matrix\n",
    "    cov_matrix = rho ** np.abs(np.subtract.outer(np.arange(num_features), np.arange(num_features)))\n",
    "\n",
    "    # Perform eigen decomposition\n",
    "    eigenvalues, eigenvectors = np.linalg.eig(cov_matrix)\n",
    "\n",
    "    # Sort eigenvalues and eigenvectors in descending order\n",
    "    sort_indices = np.argsort(eigenvalues)[::-1]\n",
    "    eigenvalues = eigenvalues[sort_indices]\n",
    "    eigenvectors = eigenvectors[:, sort_indices]\n",
    "\n",
    "    # Calculate V and A\n",
    "    V = eigenvectors\n",
    "    a = eigenvalues\n",
    "\n",
    "\n",
    "    return cov_matrix, V, a\n",
    "\n",
    "def gen_X(n, num_covariates):\n",
    "    return torch.randn((n, num_covariates))\n"
   ]
  },
  {
   "cell_type": "code",
   "execution_count": 77,
   "metadata": {},
   "outputs": [],
   "source": [
    "class MPLN(nn.Module):\n",
    "    def __init__(self, num_latents, num_features, num_covariates, V):\n",
    "        super().__init__()\n",
    "        self.num_latents = num_latents\n",
    "        self.num_features = num_features\n",
    "        self.num_covariates = num_covariates\n",
    "        self.V = V\n",
    "        self.encoder = Encoder(num_features, num_covariates, num_latents, num_hidden=100)\n",
    "\n",
    "        # Initialize parameters\n",
    "        self.B = nn.Parameter(torch.zeros((num_features, num_covariates)))\n",
    "        self.a = nn.Parameter(torch.ones((num_latents)))\n",
    "    \n",
    "    def forward(self, W, X=None, invlink=None):\n",
    "        if X is None:\n",
    "            X = torch.zeros((W.shape[0], 0))\n",
    "        # Get the linpar (Z above) from the eigendecomposition\n",
    "        linpar = X @ self.B.T + W @ torch.diag(self.a.sqrt()) @ self.V.T\n",
    "        condmean = linpar if invlink is None else invlink(linpar)\n",
    "        return linpar, condmean\n",
    "\n",
    "    def sample(self, n, X=None, poisson=True):\n",
    "        with torch.no_grad():\n",
    "            W = torch.randn((n, self.num_latents))\n",
    "\n",
    "            if poisson is True:\n",
    "                _, condmean = self(W, X, invlink=torch.exp)\n",
    "                Y = torch.poisson(condmean).float()\n",
    "            else:\n",
    "                _, Y = self(W, X)\n",
    "\n",
    "        return {'W': W, 'Y':Y}\n",
    "\n",
    "class Encoder(nn.Module):\n",
    "    def __init__(self, num_features, num_covariates, num_latents, num_hidden):\n",
    "        super().__init__()\n",
    "        self.fc = nn.Sequential(\n",
    "            nn.Linear(num_features + num_covariates, num_hidden),\n",
    "            nn.ReLU(),\n",
    "            nn.Linear(num_hidden, num_hidden),\n",
    "            nn.ReLU(),\n",
    "            nn.Linear(num_hidden, num_latents))\n",
    "    \n",
    "    def forward(self, X, Y):\n",
    "        # contaenate X and Y \n",
    "        XY = torch.cat((X, Y), dim=1)\n",
    "        return self.fc(XY)\n",
    "\n",
    "def train_encoder(X, Y, Z, model, optimizer, criterion, num_epochs=100,validation_data=None, verbose=True, random=False, **kwargs):\n",
    "    \"\"\"\n",
    "    Train a PyTorch model and return the model and the history of losses.\n",
    "\n",
    "    :param x: The input data for model\n",
    "    :param y: The labels for input data\n",
    "    :param z: additional input data\n",
    "    :param u: additional input data\n",
    "    :param model: PyTorch model to train\n",
    "    :param optimizer: Optimizer to use in training\n",
    "    :param criterion: Loss function to use in training\n",
    "    :param num_epochs: Number of training epochs. Default is 100.\n",
    "    :param validation_data: Tuple of validation data (x_val, y_val, z_val, u_val). Default is None.\n",
    "    :return: Tuple of trained model and history of losses.\n",
    "    \"\"\"\n",
    "    # Switch model to training mode\n",
    "    model.train()\n",
    "    \n",
    "    train_losses = []\n",
    "    val_losses = []\n",
    "\n",
    "    for epoch in range(num_epochs):\n",
    "        optimizer.zero_grad()\n",
    "\n",
    "        # Forward pass\n",
    "        outputs_z = model.encoder(X, Y)\n",
    "\n",
    "        loss = criterion(outputs_z, Z)\n",
    "\n",
    "        # Backward pass and optimization\n",
    "        loss.backward()\n",
    "        optimizer.step()\n",
    "\n",
    "        train_losses.append(loss.item())\n",
    "\n",
    "        if validation_data is not None:\n",
    "            model.eval() # switch model to evaluation mode\n",
    "            with torch.no_grad():\n",
    "                z_val, y_val  = validation_data.values()\n",
    "                val_z = model.encoder(X, y_val)\n",
    "                val_loss =  criterion(val_z, z_val)\n",
    "                val_losses.append(val_loss.item())\n",
    "            model.train() # switch model back to training mode\n",
    "\n",
    "        if verbose and (epoch % 10) == 0:\n",
    "            print(f'Epoch: {epoch}, Training Loss: {loss.item()}, Val loss = {None if validation_data is None else val_loss}')\n",
    "\n",
    "    return model, train_losses, val_losses\n",
    "\n",
    "\n",
    "\n",
    "# generate data\n",
    "# -------------\n",
    "n = 5000\n",
    "num_features = 50\n",
    "num_covariates = 0\n",
    "num_latents = 5\n",
    "\n",
    "Sigma, V, A = gen_Sigma(num_features, rho=0.8)\n",
    "model = MPLN(num_latents, num_features, num_covariates, V[:,:num_latents])\n",
    "X = gen_X(n, num_covariates)\n",
    "dat_true = model.sample(n, X, poisson=True)\n",
    "dat_val = model.sample(n, X, poisson=True)"
   ]
  },
  {
   "cell_type": "code",
   "execution_count": 78,
   "metadata": {},
   "outputs": [],
   "source": [
    "optimizer = torch.optim.Adam(model.encoder.parameters(), lr=0.01)\n",
    "criterion = nn.MSELoss()\n"
   ]
  },
  {
   "cell_type": "code",
   "execution_count": 79,
   "metadata": {},
   "outputs": [
    {
     "name": "stdout",
     "output_type": "stream",
     "text": [
      "Epoch: 0, Training Loss: 1.0122543573379517, Val loss = 0.9610810875892639\n",
      "Epoch: 10, Training Loss: 0.6661685109138489, Val loss = 0.6488306522369385\n",
      "Epoch: 20, Training Loss: 0.565086305141449, Val loss = 0.5954761505126953\n",
      "Epoch: 30, Training Loss: 0.5230598449707031, Val loss = 0.566157877445221\n",
      "Epoch: 40, Training Loss: 0.5083904266357422, Val loss = 0.5541267395019531\n",
      "Epoch: 50, Training Loss: 0.47597914934158325, Val loss = 0.5543708801269531\n",
      "Epoch: 60, Training Loss: 0.46197161078453064, Val loss = 0.5451619029045105\n",
      "Epoch: 70, Training Loss: 0.4447692930698395, Val loss = 0.5464577078819275\n",
      "Epoch: 80, Training Loss: 0.4327811300754547, Val loss = 0.5520853400230408\n",
      "Epoch: 90, Training Loss: 0.4262506663799286, Val loss = 0.5559964776039124\n",
      "Epoch: 100, Training Loss: 0.4124489426612854, Val loss = 0.5642643570899963\n",
      "Epoch: 110, Training Loss: 0.40321749448776245, Val loss = 0.5807278752326965\n",
      "Epoch: 120, Training Loss: 0.39319083094596863, Val loss = 0.5792719125747681\n",
      "Epoch: 130, Training Loss: 0.3868623375892639, Val loss = 0.5894185304641724\n",
      "Epoch: 140, Training Loss: 0.37249937653541565, Val loss = 0.594333291053772\n",
      "Epoch: 150, Training Loss: 0.36563968658447266, Val loss = 0.6011390089988708\n"
     ]
    },
    {
     "ename": "KeyboardInterrupt",
     "evalue": "",
     "output_type": "error",
     "traceback": [
      "\u001b[1;31m---------------------------------------------------------------------------\u001b[0m",
      "\u001b[1;31mKeyboardInterrupt\u001b[0m                         Traceback (most recent call last)",
      "Cell \u001b[1;32mIn[79], line 1\u001b[0m\n\u001b[1;32m----> 1\u001b[0m _ \u001b[39m=\u001b[39m train_encoder(X, dat_true[\u001b[39m'\u001b[39;49m\u001b[39mY\u001b[39;49m\u001b[39m'\u001b[39;49m], dat_true[\u001b[39m'\u001b[39;49m\u001b[39mW\u001b[39;49m\u001b[39m'\u001b[39;49m], model\u001b[39m=\u001b[39;49mmodel, optimizer\u001b[39m=\u001b[39;49moptimizer, criterion\u001b[39m=\u001b[39;49mcriterion, num_epochs\u001b[39m=\u001b[39;49m\u001b[39m500\u001b[39;49m, validation_data\u001b[39m=\u001b[39;49mdat_val)\n",
      "Cell \u001b[1;32mIn[77], line 88\u001b[0m, in \u001b[0;36mtrain_encoder\u001b[1;34m(X, Y, Z, model, optimizer, criterion, num_epochs, validation_data, verbose, random, **kwargs)\u001b[0m\n\u001b[0;32m     86\u001b[0m \u001b[39mwith\u001b[39;00m torch\u001b[39m.\u001b[39mno_grad():\n\u001b[0;32m     87\u001b[0m     z_val, y_val  \u001b[39m=\u001b[39m validation_data\u001b[39m.\u001b[39mvalues()\n\u001b[1;32m---> 88\u001b[0m     val_z \u001b[39m=\u001b[39m model\u001b[39m.\u001b[39;49mencoder(X, y_val)\n\u001b[0;32m     89\u001b[0m     val_loss \u001b[39m=\u001b[39m  criterion(val_z, z_val)\n\u001b[0;32m     90\u001b[0m     val_losses\u001b[39m.\u001b[39mappend(val_loss\u001b[39m.\u001b[39mitem())\n",
      "File \u001b[1;32mc:\\Users\\Willwhite\\AppData\\Local\\miniconda\\envs\\pytorch\\lib\\site-packages\\torch\\nn\\modules\\module.py:1194\u001b[0m, in \u001b[0;36mModule._call_impl\u001b[1;34m(self, *input, **kwargs)\u001b[0m\n\u001b[0;32m   1190\u001b[0m \u001b[39m# If we don't have any hooks, we want to skip the rest of the logic in\u001b[39;00m\n\u001b[0;32m   1191\u001b[0m \u001b[39m# this function, and just call forward.\u001b[39;00m\n\u001b[0;32m   1192\u001b[0m \u001b[39mif\u001b[39;00m \u001b[39mnot\u001b[39;00m (\u001b[39mself\u001b[39m\u001b[39m.\u001b[39m_backward_hooks \u001b[39mor\u001b[39;00m \u001b[39mself\u001b[39m\u001b[39m.\u001b[39m_forward_hooks \u001b[39mor\u001b[39;00m \u001b[39mself\u001b[39m\u001b[39m.\u001b[39m_forward_pre_hooks \u001b[39mor\u001b[39;00m _global_backward_hooks\n\u001b[0;32m   1193\u001b[0m         \u001b[39mor\u001b[39;00m _global_forward_hooks \u001b[39mor\u001b[39;00m _global_forward_pre_hooks):\n\u001b[1;32m-> 1194\u001b[0m     \u001b[39mreturn\u001b[39;00m forward_call(\u001b[39m*\u001b[39m\u001b[39minput\u001b[39m, \u001b[39m*\u001b[39m\u001b[39m*\u001b[39mkwargs)\n\u001b[0;32m   1195\u001b[0m \u001b[39m# Do not call functions when jit is used\u001b[39;00m\n\u001b[0;32m   1196\u001b[0m full_backward_hooks, non_full_backward_hooks \u001b[39m=\u001b[39m [], []\n",
      "Cell \u001b[1;32mIn[77], line 47\u001b[0m, in \u001b[0;36mEncoder.forward\u001b[1;34m(self, X, Y)\u001b[0m\n\u001b[0;32m     44\u001b[0m \u001b[39mdef\u001b[39;00m \u001b[39mforward\u001b[39m(\u001b[39mself\u001b[39m, X, Y):\n\u001b[0;32m     45\u001b[0m     \u001b[39m# contaenate X and Y \u001b[39;00m\n\u001b[0;32m     46\u001b[0m     XY \u001b[39m=\u001b[39m torch\u001b[39m.\u001b[39mcat((X, Y), dim\u001b[39m=\u001b[39m\u001b[39m1\u001b[39m)\n\u001b[1;32m---> 47\u001b[0m     \u001b[39mreturn\u001b[39;00m \u001b[39mself\u001b[39;49m\u001b[39m.\u001b[39;49mfc(XY)\n",
      "File \u001b[1;32mc:\\Users\\Willwhite\\AppData\\Local\\miniconda\\envs\\pytorch\\lib\\site-packages\\torch\\nn\\modules\\module.py:1194\u001b[0m, in \u001b[0;36mModule._call_impl\u001b[1;34m(self, *input, **kwargs)\u001b[0m\n\u001b[0;32m   1190\u001b[0m \u001b[39m# If we don't have any hooks, we want to skip the rest of the logic in\u001b[39;00m\n\u001b[0;32m   1191\u001b[0m \u001b[39m# this function, and just call forward.\u001b[39;00m\n\u001b[0;32m   1192\u001b[0m \u001b[39mif\u001b[39;00m \u001b[39mnot\u001b[39;00m (\u001b[39mself\u001b[39m\u001b[39m.\u001b[39m_backward_hooks \u001b[39mor\u001b[39;00m \u001b[39mself\u001b[39m\u001b[39m.\u001b[39m_forward_hooks \u001b[39mor\u001b[39;00m \u001b[39mself\u001b[39m\u001b[39m.\u001b[39m_forward_pre_hooks \u001b[39mor\u001b[39;00m _global_backward_hooks\n\u001b[0;32m   1193\u001b[0m         \u001b[39mor\u001b[39;00m _global_forward_hooks \u001b[39mor\u001b[39;00m _global_forward_pre_hooks):\n\u001b[1;32m-> 1194\u001b[0m     \u001b[39mreturn\u001b[39;00m forward_call(\u001b[39m*\u001b[39m\u001b[39minput\u001b[39m, \u001b[39m*\u001b[39m\u001b[39m*\u001b[39mkwargs)\n\u001b[0;32m   1195\u001b[0m \u001b[39m# Do not call functions when jit is used\u001b[39;00m\n\u001b[0;32m   1196\u001b[0m full_backward_hooks, non_full_backward_hooks \u001b[39m=\u001b[39m [], []\n",
      "File \u001b[1;32mc:\\Users\\Willwhite\\AppData\\Local\\miniconda\\envs\\pytorch\\lib\\site-packages\\torch\\nn\\modules\\container.py:204\u001b[0m, in \u001b[0;36mSequential.forward\u001b[1;34m(self, input)\u001b[0m\n\u001b[0;32m    202\u001b[0m \u001b[39mdef\u001b[39;00m \u001b[39mforward\u001b[39m(\u001b[39mself\u001b[39m, \u001b[39minput\u001b[39m):\n\u001b[0;32m    203\u001b[0m     \u001b[39mfor\u001b[39;00m module \u001b[39min\u001b[39;00m \u001b[39mself\u001b[39m:\n\u001b[1;32m--> 204\u001b[0m         \u001b[39minput\u001b[39m \u001b[39m=\u001b[39m module(\u001b[39minput\u001b[39;49m)\n\u001b[0;32m    205\u001b[0m     \u001b[39mreturn\u001b[39;00m \u001b[39minput\u001b[39m\n",
      "File \u001b[1;32mc:\\Users\\Willwhite\\AppData\\Local\\miniconda\\envs\\pytorch\\lib\\site-packages\\torch\\nn\\modules\\module.py:1194\u001b[0m, in \u001b[0;36mModule._call_impl\u001b[1;34m(self, *input, **kwargs)\u001b[0m\n\u001b[0;32m   1190\u001b[0m \u001b[39m# If we don't have any hooks, we want to skip the rest of the logic in\u001b[39;00m\n\u001b[0;32m   1191\u001b[0m \u001b[39m# this function, and just call forward.\u001b[39;00m\n\u001b[0;32m   1192\u001b[0m \u001b[39mif\u001b[39;00m \u001b[39mnot\u001b[39;00m (\u001b[39mself\u001b[39m\u001b[39m.\u001b[39m_backward_hooks \u001b[39mor\u001b[39;00m \u001b[39mself\u001b[39m\u001b[39m.\u001b[39m_forward_hooks \u001b[39mor\u001b[39;00m \u001b[39mself\u001b[39m\u001b[39m.\u001b[39m_forward_pre_hooks \u001b[39mor\u001b[39;00m _global_backward_hooks\n\u001b[0;32m   1193\u001b[0m         \u001b[39mor\u001b[39;00m _global_forward_hooks \u001b[39mor\u001b[39;00m _global_forward_pre_hooks):\n\u001b[1;32m-> 1194\u001b[0m     \u001b[39mreturn\u001b[39;00m forward_call(\u001b[39m*\u001b[39m\u001b[39minput\u001b[39m, \u001b[39m*\u001b[39m\u001b[39m*\u001b[39mkwargs)\n\u001b[0;32m   1195\u001b[0m \u001b[39m# Do not call functions when jit is used\u001b[39;00m\n\u001b[0;32m   1196\u001b[0m full_backward_hooks, non_full_backward_hooks \u001b[39m=\u001b[39m [], []\n",
      "File \u001b[1;32mc:\\Users\\Willwhite\\AppData\\Local\\miniconda\\envs\\pytorch\\lib\\site-packages\\torch\\nn\\modules\\linear.py:114\u001b[0m, in \u001b[0;36mLinear.forward\u001b[1;34m(self, input)\u001b[0m\n\u001b[0;32m    113\u001b[0m \u001b[39mdef\u001b[39;00m \u001b[39mforward\u001b[39m(\u001b[39mself\u001b[39m, \u001b[39minput\u001b[39m: Tensor) \u001b[39m-\u001b[39m\u001b[39m>\u001b[39m Tensor:\n\u001b[1;32m--> 114\u001b[0m     \u001b[39mreturn\u001b[39;00m F\u001b[39m.\u001b[39;49mlinear(\u001b[39minput\u001b[39;49m, \u001b[39mself\u001b[39;49m\u001b[39m.\u001b[39;49mweight, \u001b[39mself\u001b[39;49m\u001b[39m.\u001b[39;49mbias)\n",
      "\u001b[1;31mKeyboardInterrupt\u001b[0m: "
     ]
    }
   ],
   "source": [
    "\n",
    "_ = train_encoder(X, dat_true['Y'], dat_true['W'], model=model, optimizer=optimizer, criterion=criterion, num_epochs=500, validation_data=dat_val)"
   ]
  },
  {
   "cell_type": "code",
   "execution_count": 80,
   "metadata": {},
   "outputs": [
    {
     "data": {
      "text/plain": [
       "[<matplotlib.lines.Line2D at 0x1f3307e8610>]"
      ]
     },
     "execution_count": 80,
     "metadata": {},
     "output_type": "execute_result"
    },
    {
     "data": {
      "image/png": "[encoded data removed]",
      "text/plain": [
       "<Figure size 640x480 with 1 Axes>"
      ]
     },
     "metadata": {},
     "output_type": "display_data"
    }
   ],
   "source": [
    "import matplotlib.pyplot as plt\n",
    "\n",
    "dat_sample = model.sample(n, X=X, poisson=True)\n",
    "what = model.encoder(X, dat_sample['Y']).detach().numpy()\n",
    "w_true = dat_sample['W'].detach().numpy()\n",
    "\n",
    "plt.scatter(what, w_true)\n",
    "plt.plot([-4,4], [-4,4], color=\"red\")"
   ]
  },
  {
   "cell_type": "code",
   "execution_count": 18,
   "metadata": {},
   "outputs": [
    {
     "data": {
      "text/plain": [
       "Parameter containing:\n",
       "tensor([], size=(10, 0), requires_grad=True)"
      ]
     },
     "execution_count": 18,
     "metadata": {},
     "output_type": "execute_result"
    }
   ],
   "source": [
    "nn.Parameter(torch.zeros((10,0)))"
   ]
  },
  {
   "cell_type": "code",
   "execution_count": 4,
   "metadata": {},
   "outputs": [
    {
     "name": "stdout",
     "output_type": "stream",
     "text": [
      "Eigenvalues:\n",
      "[-0.37228132  5.37228132]\n",
      "Eigenvectors:\n",
      "[[-0.82456484 -0.41597356]\n",
      " [ 0.56576746 -0.90937671]]\n"
     ]
    }
   ],
   "source": [
    "import numpy as np\n",
    "\n",
    "# Define matrix A\n",
    "A = np.array([[1, 2], [3, 4]])\n",
    "\n",
    "# Perform eigen decomposition\n",
    "eigenvalues, eigenvectors = np.linalg.eig(A)\n",
    "\n",
    "# Print eigenvalues and eigenvectors\n",
    "print(\"Eigenvalues:\")\n",
    "print(eigenvalues)\n",
    "print(\"Eigenvectors:\")\n",
    "print(eigenvectors)"
   ]
  },
  {
   "cell_type": "code",
   "execution_count": 8,
   "metadata": {},
   "outputs": [
    {
     "data": {
      "text/plain": [
       "array([[ 1.        , -0.17149859],\n",
       "       [-0.17149859,  1.        ]])"
      ]
     },
     "execution_count": 8,
     "metadata": {},
     "output_type": "execute_result"
    }
   ],
   "source": [
    "eigenvectors"
   ]
  }
 ],
 "metadata": {
  "kernelspec": {
   "display_name": "pytorch",
   "language": "python",
   "name": "python3"
  },
  "language_info": {
   "codemirror_mode": {
    "name": "ipython",
    "version": 3
   },
   "file_extension": ".py",
   "mimetype": "text/x-python",
   "name": "python",
   "nbconvert_exporter": "python",
   "pygments_lexer": "ipython3",
   "version": "3.10.9"
  },
  "orig_nbformat": 4
 },
 "nbformat": 4,
 "nbformat_minor": 2
}

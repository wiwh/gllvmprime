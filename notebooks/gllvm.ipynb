{
 "cells": [
  {
   "cell_type": "markdown",
   "metadata": {},
   "source": [
    "# Introduction to GLLVMs"
   ]
  },
  {
   "cell_type": "code",
   "execution_count": 1,
   "metadata": {},
   "outputs": [],
   "source": [
    "import sys\n",
    "import os\n",
    "\n",
    "# Add the module directory to the system path\n",
    "module_path = os.path.abspath(os.path.join('..'))\n",
    "if module_path not in sys.path:\n",
    "    sys.path.append(module_path)"
   ]
  },
  {
   "cell_type": "code",
   "execution_count": 4,
   "metadata": {},
   "outputs": [],
   "source": [
    "from gllvmprime import GLLVM"
   ]
  },
  {
   "cell_type": "code",
   "execution_count": 5,
   "metadata": {},
   "outputs": [],
   "source": [
    "import numpy as np\n",
    "\n",
    "model = GLLVM(\n",
    "    num_var = 100,\n",
    "    num_latent=110,\n",
    "    num_covar=0,\n",
    "    response_family = {'binomial': np.arange(50), 'gaussian': np.arange(50, 100)}\n",
    ")"
   ]
  },
  {
   "cell_type": "code",
   "execution_count": 10,
   "metadata": {},
   "outputs": [
    {
     "name": "stdout",
     "output_type": "stream",
     "text": [
      "GLLVMSettings(p=100,\n",
      "              q=110,\n",
      "              k=0,\n",
      "              family={'binomial': array([ 0,  1,  2,  3,  4,  5,  6,  7,  8,  9, 10, 11, 12, 13, 14, 15, 16,\n",
      "       17, 18, 19, 20, 21, 22, 23, 24, 25, 26, 27, 28, 29, 30, 31, 32, 33,\n",
      "       34, 35, 36, 37, 38, 39, 40, 41, 42, 43, 44, 45, 46, 47, 48, 49]),\n",
      "                      'gaussian': array([50, 51, 52, 53, 54, 55, 56, 57, 58, 59, 60, 61, 62, 63, 64, 65, 66,\n",
      "       67, 68, 69, 70, 71, 72, 73, 74, 75, 76, 77, 78, 79, 80, 81, 82, 83,\n",
      "       84, 85, 86, 87, 88, 89, 90, 91, 92, 93, 94, 95, 96, 97, 98, 99])},\n",
      "              args=None,\n",
      "              link=None,\n",
      "              linkinv=None,\n",
      "              transform={'binomial': <function GLLVMSettings.<lambda>.<locals>.<lambda> at 0x7fc0acbd67a0>,\n",
      "                         'gaussian': <function GLLVMSettings.<lambda>.<locals>.<lambda> at 0x7fc0acbd5c60>,\n",
      "                         'ordinal': <function GLLVMSettings.<lambda>.<locals>.<lambda> at 0x7fc0acbd6b90>,\n",
      "                         'poisson': <built-in method log1p of type object at 0x7fc155e45760>})\n"
     ]
    }
   ],
   "source": [
    "from pprint import pprint\n",
    "pprint(model.settings)"
   ]
  }
 ],
 "metadata": {
  "kernelspec": {
   "display_name": "torch",
   "language": "python",
   "name": "python3"
  },
  "language_info": {
   "codemirror_mode": {
    "name": "ipython",
    "version": 3
   },
   "file_extension": ".py",
   "mimetype": "text/x-python",
   "name": "python",
   "nbconvert_exporter": "python",
   "pygments_lexer": "ipython3",
   "version": "3.10.14"
  }
 },
 "nbformat": 4,
 "nbformat_minor": 2
}
